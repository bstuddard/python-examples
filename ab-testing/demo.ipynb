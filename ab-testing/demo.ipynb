{
 "cells": [
  {
   "cell_type": "markdown",
   "metadata": {},
   "source": [
    "# AB Testing\n",
    "This notebook accompanies a blog article, overviewing the basics of AB Testing."
   ]
  },
  {
   "cell_type": "markdown",
   "metadata": {},
   "source": [
    "## Imports and seed reproducability"
   ]
  },
  {
   "cell_type": "code",
   "execution_count": 15,
   "metadata": {},
   "outputs": [],
   "source": [
    "from math import ceil\n",
    "import numpy as np\n",
    "import pandas as pd\n",
    "import statsmodels.api as sm\n",
    "import seaborn as sns\n",
    "from statsmodels.stats.proportion import proportions_ztest\n",
    "sns.set_theme()"
   ]
  },
  {
   "cell_type": "code",
   "execution_count": 2,
   "metadata": {},
   "outputs": [],
   "source": [
    "np.random.seed(seed=42)"
   ]
  },
  {
   "cell_type": "markdown",
   "metadata": {},
   "source": [
    "## Effect and Sample Size\n",
    "Before gathering data, recommended to calculate effect and sample size."
   ]
  },
  {
   "cell_type": "markdown",
   "metadata": {},
   "source": [
    "### Effect Size"
   ]
  },
  {
   "cell_type": "code",
   "execution_count": 13,
   "metadata": {},
   "outputs": [
    {
     "name": "stdout",
     "output_type": "stream",
     "text": [
      "For a change from 0.70 to 0.75, effect size is -0.11.\n"
     ]
    }
   ],
   "source": [
    "init_prop = 0.7\n",
    "mde_prop = 0.75\n",
    "effect_size = sm.stats.proportion_effectsize(init_prop, mde_prop)\n",
    "print(f'For a change from {init_prop:.2f} to {mde_prop:.2f}, effect size is {effect_size:.2f}.')"
   ]
  },
  {
   "cell_type": "markdown",
   "metadata": {},
   "source": [
    "### Sample Size"
   ]
  },
  {
   "cell_type": "code",
   "execution_count": 18,
   "metadata": {},
   "outputs": [
    {
     "name": "stdout",
     "output_type": "stream",
     "text": [
      "1250 sample size required given power analysis and input parameters.\n"
     ]
    }
   ],
   "source": [
    "sample_size = sm.stats.zt_ind_solve_power(effect_size=effect_size, nobs1=None, alpha=0.05, power=0.8)\n",
    "print(f'{ceil(sample_size)} sample size required given power analysis and input parameters.')"
   ]
  },
  {
   "cell_type": "markdown",
   "metadata": {},
   "source": [
    "## Data Generation\n",
    "For this example, we'll use dummy data to represent changes in a video game"
   ]
  },
  {
   "cell_type": "code",
   "execution_count": 5,
   "metadata": {},
   "outputs": [],
   "source": [
    "data_generated_a = np.random.choice([0,1], size=1250, replace=True, p=[0.20, 0.8])\n",
    "data_generated_b = np.random.choice([0,1], size=1250, replace=True, p=[0.3, 0.70])"
   ]
  },
  {
   "cell_type": "code",
   "execution_count": 6,
   "metadata": {},
   "outputs": [],
   "source": [
    "df = pd.DataFrame({'medium': data_generated_a, 'hard': data_generated_b})"
   ]
  },
  {
   "cell_type": "code",
   "execution_count": 7,
   "metadata": {},
   "outputs": [
    {
     "data": {
      "text/plain": [
       "medium    980\n",
       "hard      881\n",
       "dtype: int64"
      ]
     },
     "execution_count": 7,
     "metadata": {},
     "output_type": "execute_result"
    }
   ],
   "source": [
    "df.sum()"
   ]
  },
  {
   "cell_type": "code",
   "execution_count": 8,
   "metadata": {},
   "outputs": [
    {
     "data": {
      "image/png": "[encoded data removed]",
      "text/plain": [
       "<Figure size 432x288 with 1 Axes>"
      ]
     },
     "metadata": {},
     "output_type": "display_data"
    }
   ],
   "source": [
    "# Plot initial data and format\n",
    "plot_df = df.melt()\n",
    "plot_df.columns = ['Difficulty', 'User_Continues']\n",
    "ax = sns.countplot(x='Difficulty', hue='User_Continues', data=plot_df)\n",
    "ax.set_title(\"Medium vs. Hard Difficulty - Whether User Continues or Not\")\n",
    "ax.legend(['Stops', 'Continues'], loc='upper right')\n",
    "ax.set_ybound(0, 1500)\n",
    "for p in ax.patches:\n",
    "    x=p.get_bbox().get_points()[:,0].mean()\n",
    "    y=p.get_bbox().get_points()[1,1]\n",
    "    ax.annotate(f'{y:.0f}', (x,y+5), ha='center', va='bottom', color=p.get_facecolor())"
   ]
  },
  {
   "cell_type": "markdown",
   "metadata": {},
   "source": [
    "## Analyze Results"
   ]
  },
  {
   "cell_type": "code",
   "execution_count": 12,
   "metadata": {},
   "outputs": [
    {
     "name": "stdout",
     "output_type": "stream",
     "text": [
      "Medium: 980 successes of 1250 trials. Hard: 881 successes of 1250 trials.\n"
     ]
    }
   ],
   "source": [
    "# Get z test requirements\n",
    "medium_successes = df.loc[:, 'medium'].sum()\n",
    "hard_successes = df.loc[:, 'hard'].sum()\n",
    "medium_trials = df.loc[:, 'medium'].count()\n",
    "hard_trials = df.loc[:, 'hard'].count()\n",
    "\n",
    "print(f'Medium: {medium_successes} successes of {medium_trials} trials. Hard: {hard_successes} successes of {hard_trials} trials.')"
   ]
  },
  {
   "cell_type": "code",
   "execution_count": 10,
   "metadata": {},
   "outputs": [
    {
     "name": "stdout",
     "output_type": "stream",
     "text": [
      "z stat of 4.539 and p value of 0.0000.\n"
     ]
    }
   ],
   "source": [
    "# Perform z test\n",
    "z_stat, p_value = proportions_ztest(count=[medium_successes, hard_successes], nobs=[medium_trials, hard_trials])\n",
    "print(f'z stat of {z_stat:.3f} and p value of {p_value:.4f}.')"
   ]
  }
 ],
 "metadata": {
  "interpreter": {
   "hash": "557bea64a4d33a54b4028138dfa5f7ef28b1855e4803cd7cef7b3f2a14105b37"
  },
  "kernelspec": {
   "display_name": "Python 3.9.6 64-bit ('sliced2': conda)",
   "name": "python3"
  },
  "language_info": {
   "codemirror_mode": {
    "name": "ipython",
    "version": 3
   },
   "file_extension": ".py",
   "mimetype": "text/x-python",
   "name": "python",
   "nbconvert_exporter": "python",
   "pygments_lexer": "ipython3",
   "version": "3.9.6"
  },
  "orig_nbformat": 4
 },
 "nbformat": 4,
 "nbformat_minor": 2
}
