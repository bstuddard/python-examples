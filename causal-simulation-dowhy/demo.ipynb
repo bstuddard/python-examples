{
 "cells": [
  {
   "cell_type": "markdown",
   "metadata": {},
   "source": [
    "# Causal Modeling and Simulation"
   ]
  },
  {
   "cell_type": "code",
   "execution_count": 1,
   "metadata": {},
   "outputs": [],
   "source": [
    "import pandas as pd\n",
    "import numpy as np\n",
    "import seaborn as sns\n",
    "sns.set_theme()"
   ]
  },
  {
   "cell_type": "code",
   "execution_count": 2,
   "metadata": {},
   "outputs": [],
   "source": [
    "from dowhy import CausalModel\n",
    "import statsmodels.formula.api as smf"
   ]
  },
  {
   "cell_type": "markdown",
   "metadata": {},
   "source": [
    "## Data Generation\n",
    "Simulation is a great way to test out causal modeling. Since we are not able to observe a counterfactual (what would have happened in a \"different world\"), simulation allows us to know the answer and test how close our model comes to this true effect."
   ]
  },
  {
   "cell_type": "code",
   "execution_count": 3,
   "metadata": {},
   "outputs": [],
   "source": [
    "num_samples = 100\n",
    "df = pd.DataFrame({\n",
    "    'id': np.arange(num_samples),\n",
    "    'healthy_diet': np.random.randint(0, 2, size=num_samples),\n",
    "    'smokes':  np.random.randint(0, 2, size=num_samples)\n",
    "})\n",
    "df['life_expectancy'] = 70.0 + df.healthy_diet*15.0 + df.smokes*-10.0 # Simulated effect"
   ]
  },
  {
   "cell_type": "code",
   "execution_count": 4,
   "metadata": {},
   "outputs": [
    {
     "data": {
      "text/html": [
       "<div>\n",
       "<style scoped>\n",
       "    .dataframe tbody tr th:only-of-type {\n",
       "        vertical-align: middle;\n",
       "    }\n",
       "\n",
       "    .dataframe tbody tr th {\n",
       "        vertical-align: top;\n",
       "    }\n",
       "\n",
       "    .dataframe thead th {\n",
       "        text-align: right;\n",
       "    }\n",
       "</style>\n",
       "<table border=\"1\" class=\"dataframe\">\n",
       "  <thead>\n",
       "    <tr style=\"text-align: right;\">\n",
       "      <th></th>\n",
       "      <th>id</th>\n",
       "      <th>healthy_diet</th>\n",
       "      <th>smokes</th>\n",
       "      <th>life_expectancy</th>\n",
       "    </tr>\n",
       "  </thead>\n",
       "  <tbody>\n",
       "    <tr>\n",
       "      <th>0</th>\n",
       "      <td>0</td>\n",
       "      <td>1</td>\n",
       "      <td>1</td>\n",
       "      <td>75.0</td>\n",
       "    </tr>\n",
       "    <tr>\n",
       "      <th>1</th>\n",
       "      <td>1</td>\n",
       "      <td>0</td>\n",
       "      <td>0</td>\n",
       "      <td>70.0</td>\n",
       "    </tr>\n",
       "    <tr>\n",
       "      <th>2</th>\n",
       "      <td>2</td>\n",
       "      <td>0</td>\n",
       "      <td>0</td>\n",
       "      <td>70.0</td>\n",
       "    </tr>\n",
       "    <tr>\n",
       "      <th>3</th>\n",
       "      <td>3</td>\n",
       "      <td>0</td>\n",
       "      <td>0</td>\n",
       "      <td>70.0</td>\n",
       "    </tr>\n",
       "    <tr>\n",
       "      <th>4</th>\n",
       "      <td>4</td>\n",
       "      <td>1</td>\n",
       "      <td>1</td>\n",
       "      <td>75.0</td>\n",
       "    </tr>\n",
       "  </tbody>\n",
       "</table>\n",
       "</div>"
      ],
      "text/plain": [
       "   id  healthy_diet  smokes  life_expectancy\n",
       "0   0             1       1             75.0\n",
       "1   1             0       0             70.0\n",
       "2   2             0       0             70.0\n",
       "3   3             0       0             70.0\n",
       "4   4             1       1             75.0"
      ]
     },
     "execution_count": 4,
     "metadata": {},
     "output_type": "execute_result"
    }
   ],
   "source": [
    "df.head(5)"
   ]
  },
  {
   "cell_type": "code",
   "execution_count": 5,
   "metadata": {},
   "outputs": [
    {
     "data": {
      "text/plain": [
       "[<matplotlib.axis.XTick at 0x25308c14100>,\n",
       " <matplotlib.axis.XTick at 0x25308c140d0>]"
      ]
     },
     "execution_count": 5,
     "metadata": {},
     "output_type": "execute_result"
    },
    {
     "data": {
      "image/png": "[encoded data removed]",
      "text/plain": [
       "<Figure size 432x288 with 1 Axes>"
      ]
     },
     "metadata": {},
     "output_type": "display_data"
    }
   ],
   "source": [
    "ax = sns.scatterplot(data=df, x='healthy_diet', y='life_expectancy', hue='smokes')\n",
    "ax.set_title('Synthetic Dataset - Healthy Diet (Treatment) vs. Life Expectancy (Outcome)')\n",
    "ax.set_xticks([0,1])"
   ]
  },
  {
   "cell_type": "code",
   "execution_count": 6,
   "metadata": {},
   "outputs": [
    {
     "data": {
      "text/plain": [
       "healthy_diet  smokes\n",
       "0             0         23\n",
       "              1         14\n",
       "1             0         29\n",
       "              1         34\n",
       "dtype: int64"
      ]
     },
     "execution_count": 6,
     "metadata": {},
     "output_type": "execute_result"
    }
   ],
   "source": [
    "df.groupby(['healthy_diet', 'smokes']).size()"
   ]
  },
  {
   "cell_type": "markdown",
   "metadata": {},
   "source": [
    "# Simple Difference"
   ]
  },
  {
   "cell_type": "code",
   "execution_count": 7,
   "metadata": {},
   "outputs": [
    {
     "name": "stdout",
     "output_type": "stream",
     "text": [
      "13.386958386958398\n"
     ]
    }
   ],
   "source": [
    "print(np.mean(df.loc[df.healthy_diet==1,'life_expectancy']) - np.mean(df.loc[df.healthy_diet==0,'life_expectancy']))"
   ]
  },
  {
   "cell_type": "code",
   "execution_count": 8,
   "metadata": {},
   "outputs": [
    {
     "name": "stdout",
     "output_type": "stream",
     "text": [
      "                            OLS Regression Results                            \n",
      "==============================================================================\n",
      "Dep. Variable:        life_expectancy   R-squared:                       0.632\n",
      "Model:                            OLS   Adj. R-squared:                  0.628\n",
      "Method:                 Least Squares   F-statistic:                     168.1\n",
      "Date:                Fri, 16 Dec 2022   Prob (F-statistic):           5.56e-23\n",
      "Time:                        12:12:10   Log-Likelihood:                -301.53\n",
      "No. Observations:                 100   AIC:                             607.1\n",
      "Df Residuals:                      98   BIC:                             612.3\n",
      "Df Model:                           1                                         \n",
      "Covariance Type:            nonrobust                                         \n",
      "================================================================================\n",
      "                   coef    std err          t      P>|t|      [0.025      0.975]\n",
      "--------------------------------------------------------------------------------\n",
      "Intercept       66.2162      0.820     80.797      0.000      64.590      67.843\n",
      "healthy_diet    13.3870      1.033     12.965      0.000      11.338      15.436\n",
      "==============================================================================\n",
      "Omnibus:                      914.347   Durbin-Watson:                   1.739\n",
      "Prob(Omnibus):                  0.000   Jarque-Bera (JB):               15.065\n",
      "Skew:                          -0.073   Prob(JB):                     0.000535\n",
      "Kurtosis:                       1.104   Cond. No.                         3.05\n",
      "==============================================================================\n",
      "\n",
      "Notes:\n",
      "[1] Standard Errors assume that the covariance matrix of the errors is correctly specified.\n"
     ]
    }
   ],
   "source": [
    "ols_result = smf.ols('life_expectancy ~ healthy_diet', data=df).fit()\n",
    "print(ols_result.summary())"
   ]
  },
  {
   "cell_type": "markdown",
   "metadata": {},
   "source": [
    "## Linear Regression with Controls"
   ]
  },
  {
   "cell_type": "code",
   "execution_count": 9,
   "metadata": {},
   "outputs": [
    {
     "name": "stdout",
     "output_type": "stream",
     "text": [
      "                            OLS Regression Results                            \n",
      "==============================================================================\n",
      "Dep. Variable:        life_expectancy   R-squared:                       1.000\n",
      "Model:                            OLS   Adj. R-squared:                  1.000\n",
      "Method:                 Least Squares   F-statistic:                 2.218e+30\n",
      "Date:                Fri, 16 Dec 2022   Prob (F-statistic):               0.00\n",
      "Time:                        12:12:10   Log-Likelihood:                 2948.2\n",
      "No. Observations:                 100   AIC:                            -5890.\n",
      "Df Residuals:                      97   BIC:                            -5882.\n",
      "Df Model:                           2                                         \n",
      "Covariance Type:            nonrobust                                         \n",
      "================================================================================\n",
      "                   coef    std err          t      P>|t|      [0.025      0.975]\n",
      "--------------------------------------------------------------------------------\n",
      "Intercept       70.0000      7e-15   9.99e+15      0.000      70.000      70.000\n",
      "healthy_diet    15.0000    8.1e-15   1.85e+15      0.000      15.000      15.000\n",
      "smokes         -10.0000   7.82e-15  -1.28e+15      0.000     -10.000     -10.000\n",
      "==============================================================================\n",
      "Omnibus:                       33.079   Durbin-Watson:                   0.615\n",
      "Prob(Omnibus):                  0.000   Jarque-Bera (JB):                6.473\n",
      "Skew:                           0.181   Prob(JB):                       0.0393\n",
      "Kurtosis:                       1.807   Cond. No.                         3.36\n",
      "==============================================================================\n",
      "\n",
      "Notes:\n",
      "[1] Standard Errors assume that the covariance matrix of the errors is correctly specified.\n"
     ]
    }
   ],
   "source": [
    "ols_result = smf.ols('life_expectancy ~ healthy_diet + smokes', data=df).fit()\n",
    "print(ols_result.summary())"
   ]
  },
  {
   "cell_type": "markdown",
   "metadata": {},
   "source": [
    "## Causal Graph/Model\n",
    "We can define the causal graph using the following notation. This can be helpful when integrating with the dowhy package."
   ]
  },
  {
   "cell_type": "code",
   "execution_count": 10,
   "metadata": {},
   "outputs": [],
   "source": [
    "causal_graph = \"\"\"digraph{\n",
    "    healthy_diet;\n",
    "    smokes;\n",
    "    life_expectancy;\n",
    "    U[label=\"Unknown Confounders\"];\n",
    "    U -> healthy_diet;\n",
    "    U -> smokes;\n",
    "    healthy_diet -> life_expectancy;\n",
    "    smokes -> life_expectancy;\n",
    "}\"\"\""
   ]
  },
  {
   "cell_type": "code",
   "execution_count": 11,
   "metadata": {},
   "outputs": [],
   "source": [
    "model = CausalModel(\n",
    "    data=df,\n",
    "    graph=causal_graph.replace(\"\\n\", \" \"),\n",
    "    treatment='healthy_diet',\n",
    "    outcome='life_expectancy'\n",
    ")"
   ]
  },
  {
   "cell_type": "code",
   "execution_count": 12,
   "metadata": {},
   "outputs": [
    {
     "data": {
      "image/png": "[encoded data removed]",
      "text/plain": [
       "<Figure size 576x432 with 1 Axes>"
      ]
     },
     "metadata": {},
     "output_type": "display_data"
    }
   ],
   "source": [
    "model.view_model()"
   ]
  },
  {
   "cell_type": "code",
   "execution_count": 13,
   "metadata": {},
   "outputs": [
    {
     "name": "stdout",
     "output_type": "stream",
     "text": [
      "Estimand type: nonparametric-ate\n",
      "\n",
      "### Estimand : 1\n",
      "Estimand name: backdoor\n",
      "Estimand expression:\n",
      "       d                                  \n",
      "───────────────(E[life_expectancy|smokes])\n",
      "d[healthy_diet]                           \n",
      "Estimand assumption 1, Unconfoundedness: If U→{healthy_diet} and U→life_expectancy then P(life_expectancy|healthy_diet,smokes,U) = P(life_expectancy|healthy_diet,smokes)\n",
      "\n",
      "### Estimand : 2\n",
      "Estimand name: iv\n",
      "No such variable(s) found!\n",
      "\n",
      "### Estimand : 3\n",
      "Estimand name: frontdoor\n",
      "No such variable(s) found!\n",
      "\n"
     ]
    }
   ],
   "source": [
    "identified_estimand = model.identify_effect(proceed_when_unidentifiable=True)\n",
    "print(identified_estimand)"
   ]
  },
  {
   "cell_type": "code",
   "execution_count": 14,
   "metadata": {},
   "outputs": [
    {
     "name": "stdout",
     "output_type": "stream",
     "text": [
      "linear_regression\n",
      "{'control_value': 0, 'treatment_value': 1, 'test_significance': None, 'evaluate_effect_strength': False, 'confidence_intervals': False, 'target_units': 'ate', 'effect_modifiers': ['smokes']}\n",
      "*** Causal Estimate ***\n",
      "\n",
      "## Identified estimand\n",
      "Estimand type: nonparametric-ate\n",
      "\n",
      "### Estimand : 1\n",
      "Estimand name: backdoor\n",
      "Estimand expression:\n",
      "       d                                  \n",
      "───────────────(E[life_expectancy|smokes])\n",
      "d[healthy_diet]                           \n",
      "Estimand assumption 1, Unconfoundedness: If U→{healthy_diet} and U→life_expectancy then P(life_expectancy|healthy_diet,smokes,U) = P(life_expectancy|healthy_diet,smokes)\n",
      "\n",
      "## Realized estimand\n",
      "b: life_expectancy~healthy_diet+smokes+healthy_diet*smokes\n",
      "Target units: ate\n",
      "\n",
      "## Estimate\n",
      "Mean value: 15.000000000000028\n",
      "### Conditional Estimates\n",
      "__categorical__smokes\n",
      "(-0.001, 1.0]    15.0\n",
      "dtype: float64\n"
     ]
    }
   ],
   "source": [
    "estimate = model.estimate_effect(identified_estimand, method_name='backdoor.linear_regression')\n",
    "print(estimate)"
   ]
  },
  {
   "cell_type": "code",
   "execution_count": 15,
   "metadata": {},
   "outputs": [
    {
     "name": "stdout",
     "output_type": "stream",
     "text": [
      "{'control_value': 0, 'treatment_value': 1, 'test_significance': False, 'evaluate_effect_strength': False, 'confidence_intervals': False, 'target_units': 'ate', 'effect_modifiers': ['smokes']}\n",
      "{'control_value': 0, 'treatment_value': 1, 'test_significance': False, 'evaluate_effect_strength': False, 'confidence_intervals': False, 'target_units': 'ate', 'effect_modifiers': ['smokes']}\n",
      "{'control_value': 0, 'treatment_value': 1, 'test_significance': False, 'evaluate_effect_strength': False, 'confidence_intervals': False, 'target_units': 'ate', 'effect_modifiers': ['smokes']}\n",
      "{'control_value': 0, 'treatment_value': 1, 'test_significance': False, 'evaluate_effect_strength': False, 'confidence_intervals': False, 'target_units': 'ate', 'effect_modifiers': ['smokes']}\n",
      "{'control_value': 0, 'treatment_value': 1, 'test_significance': False, 'evaluate_effect_strength': False, 'confidence_intervals': False, 'target_units': 'ate', 'effect_modifiers': ['smokes']}\n",
      "{'control_value': 0, 'treatment_value': 1, 'test_significance': False, 'evaluate_effect_strength': False, 'confidence_intervals': False, 'target_units': 'ate', 'effect_modifiers': ['smokes']}\n",
      "{'control_value': 0, 'treatment_value': 1, 'test_significance': False, 'evaluate_effect_strength': False, 'confidence_intervals': False, 'target_units': 'ate', 'effect_modifiers': ['smokes']}\n",
      "{'control_value': 0, 'treatment_value': 1, 'test_significance': False, 'evaluate_effect_strength': False, 'confidence_intervals': False, 'target_units': 'ate', 'effect_modifiers': ['smokes']}\n",
      "{'control_value': 0, 'treatment_value': 1, 'test_significance': False, 'evaluate_effect_strength': False, 'confidence_intervals': False, 'target_units': 'ate', 'effect_modifiers': ['smokes']}\n",
      "{'control_value': 0, 'treatment_value': 1, 'test_significance': False, 'evaluate_effect_strength': False, 'confidence_intervals': False, 'target_units': 'ate', 'effect_modifiers': ['smokes']}\n",
      "{'control_value': 0, 'treatment_value': 1, 'test_significance': False, 'evaluate_effect_strength': False, 'confidence_intervals': False, 'target_units': 'ate', 'effect_modifiers': ['smokes']}\n",
      "{'control_value': 0, 'treatment_value': 1, 'test_significance': False, 'evaluate_effect_strength': False, 'confidence_intervals': False, 'target_units': 'ate', 'effect_modifiers': ['smokes']}\n",
      "{'control_value': 0, 'treatment_value': 1, 'test_significance': False, 'evaluate_effect_strength': False, 'confidence_intervals': False, 'target_units': 'ate', 'effect_modifiers': ['smokes']}\n",
      "{'control_value': 0, 'treatment_value': 1, 'test_significance': False, 'evaluate_effect_strength': False, 'confidence_intervals': False, 'target_units': 'ate', 'effect_modifiers': ['smokes']}\n",
      "{'control_value': 0, 'treatment_value': 1, 'test_significance': False, 'evaluate_effect_strength': False, 'confidence_intervals': False, 'target_units': 'ate', 'effect_modifiers': ['smokes']}\n",
      "{'control_value': 0, 'treatment_value': 1, 'test_significance': False, 'evaluate_effect_strength': False, 'confidence_intervals': False, 'target_units': 'ate', 'effect_modifiers': ['smokes']}\n",
      "{'control_value': 0, 'treatment_value': 1, 'test_significance': False, 'evaluate_effect_strength': False, 'confidence_intervals': False, 'target_units': 'ate', 'effect_modifiers': ['smokes']}\n",
      "{'control_value': 0, 'treatment_value': 1, 'test_significance': False, 'evaluate_effect_strength': False, 'confidence_intervals': False, 'target_units': 'ate', 'effect_modifiers': ['smokes']}\n",
      "{'control_value': 0, 'treatment_value': 1, 'test_significance': False, 'evaluate_effect_strength': False, 'confidence_intervals': False, 'target_units': 'ate', 'effect_modifiers': ['smokes']}\n",
      "{'control_value': 0, 'treatment_value': 1, 'test_significance': False, 'evaluate_effect_strength': False, 'confidence_intervals': False, 'target_units': 'ate', 'effect_modifiers': ['smokes']}\n",
      "Refute: Use a Placebo Treatment\n",
      "Estimated effect:15.000000000000028\n",
      "New effect:-0.4184037377871711\n",
      "p value:0.3587044970439708\n",
      "\n"
     ]
    }
   ],
   "source": [
    "refutation = model.refute_estimate(identified_estimand, estimate, method_name=\"placebo_treatment_refuter\",\n",
    "                     placebo_type=\"permute\", num_simulations=20)\n",
    "print(refutation)"
   ]
  },
  {
   "cell_type": "code",
   "execution_count": null,
   "metadata": {},
   "outputs": [],
   "source": []
  }
 ],
 "metadata": {
  "kernelspec": {
   "display_name": "Python 3.9.6 ('sliced2')",
   "language": "python",
   "name": "python3"
  },
  "language_info": {
   "codemirror_mode": {
    "name": "ipython",
    "version": 3
   },
   "file_extension": ".py",
   "mimetype": "text/x-python",
   "name": "python",
   "nbconvert_exporter": "python",
   "pygments_lexer": "ipython3",
   "version": "3.9.6"
  },
  "orig_nbformat": 4,
  "vscode": {
   "interpreter": {
    "hash": "45aeeaeaee2753db99a3596fc57cc9b2f3e7c84cca78b6f7e4da2b22f414b220"
   }
  }
 },
 "nbformat": 4,
 "nbformat_minor": 2
}
