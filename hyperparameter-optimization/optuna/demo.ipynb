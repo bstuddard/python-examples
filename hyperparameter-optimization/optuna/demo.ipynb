{
 "cells": [
  {
   "cell_type": "markdown",
   "source": [
    "# Import Libraries"
   ],
   "metadata": {}
  },
  {
   "cell_type": "code",
   "execution_count": 1,
   "source": [
    "import pandas as pd\r\n",
    "import numpy as np\r\n",
    "import optuna\r\n",
    "from optuna.visualization import plot_parallel_coordinate\r\n",
    "import seaborn as sns\r\n",
    "from catboost import CatBoostRegressor\r\n",
    "import edatk as eda\r\n",
    "from sklearn.metrics import mean_squared_error, mean_absolute_percentage_error\r\n",
    "from sklearn.model_selection import train_test_split"
   ],
   "outputs": [],
   "metadata": {}
  },
  {
   "cell_type": "markdown",
   "source": [
    "# Import Data\r\n",
    "For additional details on the data source, see https://www.kaggle.com/budnyak/wine-rating-and-price"
   ],
   "metadata": {}
  },
  {
   "cell_type": "code",
   "execution_count": 2,
   "source": [
    "df = pd.read_csv('red.csv')\r\n",
    "df.head()"
   ],
   "outputs": [
    {
     "output_type": "execute_result",
     "data": {
      "text/html": [
       "<div>\n",
       "<style scoped>\n",
       "    .dataframe tbody tr th:only-of-type {\n",
       "        vertical-align: middle;\n",
       "    }\n",
       "\n",
       "    .dataframe tbody tr th {\n",
       "        vertical-align: top;\n",
       "    }\n",
       "\n",
       "    .dataframe thead th {\n",
       "        text-align: right;\n",
       "    }\n",
       "</style>\n",
       "<table border=\"1\" class=\"dataframe\">\n",
       "  <thead>\n",
       "    <tr style=\"text-align: right;\">\n",
       "      <th></th>\n",
       "      <th>Name</th>\n",
       "      <th>Country</th>\n",
       "      <th>Region</th>\n",
       "      <th>Winery</th>\n",
       "      <th>Rating</th>\n",
       "      <th>NumberOfRatings</th>\n",
       "      <th>Price</th>\n",
       "      <th>Year</th>\n",
       "    </tr>\n",
       "  </thead>\n",
       "  <tbody>\n",
       "    <tr>\n",
       "      <th>0</th>\n",
       "      <td>Pomerol 2011</td>\n",
       "      <td>France</td>\n",
       "      <td>Pomerol</td>\n",
       "      <td>Château La Providence</td>\n",
       "      <td>4.2</td>\n",
       "      <td>100</td>\n",
       "      <td>95.00</td>\n",
       "      <td>2011</td>\n",
       "    </tr>\n",
       "    <tr>\n",
       "      <th>1</th>\n",
       "      <td>Lirac 2017</td>\n",
       "      <td>France</td>\n",
       "      <td>Lirac</td>\n",
       "      <td>Château Mont-Redon</td>\n",
       "      <td>4.3</td>\n",
       "      <td>100</td>\n",
       "      <td>15.50</td>\n",
       "      <td>2017</td>\n",
       "    </tr>\n",
       "    <tr>\n",
       "      <th>2</th>\n",
       "      <td>Erta e China Rosso di Toscana 2015</td>\n",
       "      <td>Italy</td>\n",
       "      <td>Toscana</td>\n",
       "      <td>Renzo Masi</td>\n",
       "      <td>3.9</td>\n",
       "      <td>100</td>\n",
       "      <td>7.45</td>\n",
       "      <td>2015</td>\n",
       "    </tr>\n",
       "    <tr>\n",
       "      <th>3</th>\n",
       "      <td>Bardolino 2019</td>\n",
       "      <td>Italy</td>\n",
       "      <td>Bardolino</td>\n",
       "      <td>Cavalchina</td>\n",
       "      <td>3.5</td>\n",
       "      <td>100</td>\n",
       "      <td>8.72</td>\n",
       "      <td>2019</td>\n",
       "    </tr>\n",
       "    <tr>\n",
       "      <th>4</th>\n",
       "      <td>Ried Scheibner Pinot Noir 2016</td>\n",
       "      <td>Austria</td>\n",
       "      <td>Carnuntum</td>\n",
       "      <td>Markowitsch</td>\n",
       "      <td>3.9</td>\n",
       "      <td>100</td>\n",
       "      <td>29.15</td>\n",
       "      <td>2016</td>\n",
       "    </tr>\n",
       "  </tbody>\n",
       "</table>\n",
       "</div>"
      ],
      "text/plain": [
       "                                 Name  Country     Region  \\\n",
       "0                        Pomerol 2011   France    Pomerol   \n",
       "1                          Lirac 2017   France      Lirac   \n",
       "2  Erta e China Rosso di Toscana 2015    Italy    Toscana   \n",
       "3                      Bardolino 2019    Italy  Bardolino   \n",
       "4      Ried Scheibner Pinot Noir 2016  Austria  Carnuntum   \n",
       "\n",
       "                  Winery  Rating  NumberOfRatings  Price  Year  \n",
       "0  Château La Providence     4.2              100  95.00  2011  \n",
       "1     Château Mont-Redon     4.3              100  15.50  2017  \n",
       "2             Renzo Masi     3.9              100   7.45  2015  \n",
       "3             Cavalchina     3.5              100   8.72  2019  \n",
       "4            Markowitsch     3.9              100  29.15  2016  "
      ]
     },
     "metadata": {},
     "execution_count": 2
    }
   ],
   "metadata": {}
  },
  {
   "cell_type": "code",
   "execution_count": 3,
   "source": [
    "df.info()"
   ],
   "outputs": [
    {
     "output_type": "stream",
     "name": "stdout",
     "text": [
      "<class 'pandas.core.frame.DataFrame'>\n",
      "RangeIndex: 8666 entries, 0 to 8665\n",
      "Data columns (total 8 columns):\n",
      " #   Column           Non-Null Count  Dtype  \n",
      "---  ------           --------------  -----  \n",
      " 0   Name             8666 non-null   object \n",
      " 1   Country          8666 non-null   object \n",
      " 2   Region           8666 non-null   object \n",
      " 3   Winery           8666 non-null   object \n",
      " 4   Rating           8666 non-null   float64\n",
      " 5   NumberOfRatings  8666 non-null   int64  \n",
      " 6   Price            8666 non-null   float64\n",
      " 7   Year             8666 non-null   object \n",
      "dtypes: float64(2), int64(1), object(5)\n",
      "memory usage: 541.8+ KB\n"
     ]
    }
   ],
   "metadata": {}
  },
  {
   "cell_type": "markdown",
   "source": [
    "# Feature Selection and Train Test Split\r\n",
    "For demonstration purposes, select just a few features, predicting price."
   ],
   "metadata": {}
  },
  {
   "cell_type": "code",
   "execution_count": 4,
   "source": [
    "# Choose just a few features for demonstration, infer categorical features\r\n",
    "feature_cols = ['Country', 'Region', 'Winery', 'Rating', 'Year']\r\n",
    "cat_features = [col for col in feature_cols if df[col].dtype == 'object']\r\n",
    "target_col = 'Price'"
   ],
   "outputs": [],
   "metadata": {}
  },
  {
   "cell_type": "code",
   "execution_count": 5,
   "source": [
    "# Train test split\r\n",
    "train_df, test_df = train_test_split(df, test_size=0.3, shuffle=False)\r\n",
    "\r\n",
    "train_x = train_df.loc[:, feature_cols]\r\n",
    "train_y = train_df.loc[:, target_col]\r\n",
    "\r\n",
    "test_x = test_df.loc[:, feature_cols]\r\n",
    "test_y = test_df.loc[:, target_col]"
   ],
   "outputs": [],
   "metadata": {}
  },
  {
   "cell_type": "markdown",
   "source": [
    "# Default Parameter Catboost Train"
   ],
   "metadata": {}
  },
  {
   "cell_type": "code",
   "execution_count": 6,
   "source": [
    "# Train a model with default parameters and score\r\n",
    "model = CatBoostRegressor(loss_function = 'RMSE', eval_metric='RMSE', verbose=False, cat_features=cat_features, random_state=42)\r\n",
    "default_train_score = np.mean(eda.cross_validate_custom(train_x, train_y, model, mean_absolute_percentage_error))\r\n",
    "print('Training with default parameters results in a training score of {:.3f}.'.format(default_train_score))"
   ],
   "outputs": [
    {
     "output_type": "stream",
     "name": "stdout",
     "text": [
      "Training with default parameters results in a training score of 0.367.\n"
     ]
    }
   ],
   "metadata": {}
  },
  {
   "cell_type": "markdown",
   "source": [
    "# Optuna Train\r\n",
    "Train a hyperparameter optimized gbt"
   ],
   "metadata": {}
  },
  {
   "cell_type": "code",
   "execution_count": 7,
   "source": [
    "def objective(trial):\r\n",
    "\r\n",
    "    # Define parameter dictionary used to build catboost model\r\n",
    "    params = {\r\n",
    "        'loss_function': 'RMSE',\r\n",
    "        'eval_metric': 'RMSE',\r\n",
    "        'verbose': False,\r\n",
    "        'cat_features': cat_features,\r\n",
    "        'random_state': 42,\r\n",
    "        'learning_rate': trial.suggest_float('learning_rate', 0.001, 0.2),\r\n",
    "        'depth': trial.suggest_int('depth', 2, 12),\r\n",
    "        'n_estimators': trial.suggest_int('n_estimators', 100, 1000, step=50)\r\n",
    "    }\r\n",
    "    \r\n",
    "    # Build and score model\r\n",
    "    clf = CatBoostRegressor(**params)\r\n",
    "    score = np.mean(eda.cross_validate_custom(train_x, train_y, clf, mean_absolute_percentage_error))\r\n",
    "\r\n",
    "    return score"
   ],
   "outputs": [],
   "metadata": {}
  },
  {
   "cell_type": "code",
   "execution_count": 8,
   "source": [
    "# Create an optuna study (minimize cost) and run optimizer\r\n",
    "study = optuna.create_study(direction='minimize')\r\n",
    "study.optimize(objective, timeout=1200)"
   ],
   "outputs": [
    {
     "output_type": "stream",
     "name": "stderr",
     "text": [
      "\u001b[32m[I 2021-09-18 21:13:43,437]\u001b[0m A new study created in memory with name: no-name-de127745-a332-4adb-8a12-3edc44e49bcc\u001b[0m\n",
      "\u001b[32m[I 2021-09-18 21:15:48,840]\u001b[0m Trial 0 finished with value: 0.36781949928392776 and parameters: {'learning_rate': 0.04371199264656335, 'depth': 6, 'n_estimators': 1000}. Best is trial 0 with value: 0.36781949928392776.\u001b[0m\n",
      "\u001b[32m[I 2021-09-18 21:17:04,053]\u001b[0m Trial 1 finished with value: 0.3736021455942898 and parameters: {'learning_rate': 0.053810144189057364, 'depth': 6, 'n_estimators': 600}. Best is trial 0 with value: 0.36781949928392776.\u001b[0m\n",
      "\u001b[32m[I 2021-09-18 21:17:14,382]\u001b[0m Trial 2 finished with value: 0.42232250589936904 and parameters: {'learning_rate': 0.11040314425303185, 'depth': 5, 'n_estimators': 100}. Best is trial 0 with value: 0.36781949928392776.\u001b[0m\n",
      "\u001b[32m[I 2021-09-18 21:17:19,116]\u001b[0m Trial 3 finished with value: 0.45686989397094485 and parameters: {'learning_rate': 0.19044543569044672, 'depth': 2, 'n_estimators': 100}. Best is trial 0 with value: 0.36781949928392776.\u001b[0m\n",
      "\u001b[32m[I 2021-09-18 21:21:11,849]\u001b[0m Trial 4 finished with value: 0.36365214101316407 and parameters: {'learning_rate': 0.060136314568611265, 'depth': 9, 'n_estimators': 900}. Best is trial 4 with value: 0.36365214101316407.\u001b[0m\n",
      "\u001b[32m[I 2021-09-18 21:23:40,753]\u001b[0m Trial 5 finished with value: 0.37069295966196764 and parameters: {'learning_rate': 0.0974553939763879, 'depth': 7, 'n_estimators': 950}. Best is trial 4 with value: 0.36365214101316407.\u001b[0m\n",
      "\u001b[32m[I 2021-09-18 21:24:11,906]\u001b[0m Trial 6 finished with value: 0.48857936568734406 and parameters: {'learning_rate': 0.030520773782855327, 'depth': 9, 'n_estimators': 150}. Best is trial 4 with value: 0.36365214101316407.\u001b[0m\n",
      "\u001b[32m[I 2021-09-18 21:24:48,628]\u001b[0m Trial 7 finished with value: 0.3784776458648885 and parameters: {'learning_rate': 0.13447442746078844, 'depth': 5, 'n_estimators': 300}. Best is trial 4 with value: 0.36365214101316407.\u001b[0m\n",
      "\u001b[32m[I 2021-09-18 21:31:56,969]\u001b[0m Trial 8 finished with value: 0.3918229273324221 and parameters: {'learning_rate': 0.17442188546673545, 'depth': 12, 'n_estimators': 950}. Best is trial 4 with value: 0.36365214101316407.\u001b[0m\n",
      "\u001b[32m[I 2021-09-18 21:33:12,821]\u001b[0m Trial 9 finished with value: 0.3890858025768188 and parameters: {'learning_rate': 0.19669888248179293, 'depth': 4, 'n_estimators': 900}. Best is trial 4 with value: 0.36365214101316407.\u001b[0m\n",
      "\u001b[32m[I 2021-09-18 21:35:44,583]\u001b[0m Trial 10 finished with value: 0.4557712054252162 and parameters: {'learning_rate': 0.00863990621878849, 'depth': 10, 'n_estimators': 700}. Best is trial 4 with value: 0.36365214101316407.\u001b[0m\n"
     ]
    }
   ],
   "metadata": {}
  },
  {
   "cell_type": "markdown",
   "source": [
    "# Evaluate Training Results\r\n",
    "Compare default params vs. optimized hyperparmeters."
   ],
   "metadata": {}
  },
  {
   "cell_type": "code",
   "execution_count": 9,
   "source": [
    "# Grab best trial from optuna study\r\n",
    "best_trial_optuna = study.best_trial\r\n",
    "print('Best score {:.3f}, with params {}'.format(best_trial_optuna.value, best_trial_optuna.params))"
   ],
   "outputs": [
    {
     "output_type": "stream",
     "name": "stdout",
     "text": [
      "Best score 0.364, with params {'learning_rate': 0.060136314568611265, 'depth': 9, 'n_estimators': 900}\n"
     ]
    }
   ],
   "metadata": {}
  },
  {
   "cell_type": "code",
   "execution_count": 10,
   "source": [
    "# Compare best trial vs. default parameters\r\n",
    "print('Default parameters resulted in a score of {:.3f} vs. Optuna hyperparameter optimization score of {:.3f}.'.format(default_train_score, best_trial_optuna.value))"
   ],
   "outputs": [
    {
     "output_type": "stream",
     "name": "stdout",
     "text": [
      "Default parameters resulted in a score of 0.367 vs. Optuna hyperparameter optimization score of 0.364.\n"
     ]
    }
   ],
   "metadata": {}
  },
  {
   "cell_type": "code",
   "execution_count": 11,
   "source": [
    "# Visualize results to spot any hyperparameter trends\r\n",
    "plot_parallel_coordinate(study)"
   ],
   "outputs": [
    {
     "output_type": "display_data",
     "data": {
      "application/vnd.plotly.v1+json": {
       "config": {
        "plotlyServerURL": "https://plot.ly"
       },
       "data": [
        {
         "dimensions": [
          {
           "label": "Objective Value",
           "range": [
            0.36365214101316407,
            0.48857936568734406
           ],
           "values": [
            0.36781949928392776,
            0.3736021455942898,
            0.42232250589936904,
            0.45686989397094485,
            0.36365214101316407,
            0.37069295966196764,
            0.48857936568734406,
            0.3784776458648885,
            0.3918229273324221,
            0.3890858025768188,
            0.4557712054252162
           ]
          },
          {
           "label": "depth",
           "range": [
            2,
            12
           ],
           "values": [
            6,
            6,
            5,
            2,
            9,
            7,
            9,
            5,
            12,
            4,
            10
           ]
          },
          {
           "label": "learning_rate",
           "range": [
            0.00863990621878849,
            0.19669888248179293
           ],
           "values": [
            0.04371199264656335,
            0.053810144189057364,
            0.11040314425303185,
            0.19044543569044672,
            0.060136314568611265,
            0.0974553939763879,
            0.030520773782855327,
            0.13447442746078844,
            0.17442188546673545,
            0.19669888248179293,
            0.00863990621878849
           ]
          },
          {
           "label": "n_estimators",
           "range": [
            100,
            1000
           ],
           "values": [
            1000,
            600,
            100,
            100,
            900,
            950,
            150,
            300,
            950,
            900,
            700
           ]
          }
         ],
         "labelangle": 30,
         "labelside": "bottom",
         "line": {
          "color": [
           0.36781949928392776,
           0.3736021455942898,
           0.42232250589936904,
           0.45686989397094485,
           0.36365214101316407,
           0.37069295966196764,
           0.48857936568734406,
           0.3784776458648885,
           0.3918229273324221,
           0.3890858025768188,
           0.4557712054252162
          ],
          "colorbar": {
           "title": {
            "text": "Objective Value"
           }
          },
          "colorscale": [
           [
            0,
            "rgb(247,251,255)"
           ],
           [
            0.125,
            "rgb(222,235,247)"
           ],
           [
            0.25,
            "rgb(198,219,239)"
           ],
           [
            0.375,
            "rgb(158,202,225)"
           ],
           [
            0.5,
            "rgb(107,174,214)"
           ],
           [
            0.625,
            "rgb(66,146,198)"
           ],
           [
            0.75,
            "rgb(33,113,181)"
           ],
           [
            0.875,
            "rgb(8,81,156)"
           ],
           [
            1,
            "rgb(8,48,107)"
           ]
          ],
          "reversescale": true,
          "showscale": true
         },
         "type": "parcoords"
        }
       ],
       "layout": {
        "template": {
         "data": {
          "bar": [
           {
            "error_x": {
             "color": "#2a3f5f"
            },
            "error_y": {
             "color": "#2a3f5f"
            },
            "marker": {
             "line": {
              "color": "#E5ECF6",
              "width": 0.5
             },
             "pattern": {
              "fillmode": "overlay",
              "size": 10,
              "solidity": 0.2
             }
            },
            "type": "bar"
           }
          ],
          "barpolar": [
           {
            "marker": {
             "line": {
              "color": "#E5ECF6",
              "width": 0.5
             },
             "pattern": {
              "fillmode": "overlay",
              "size": 10,
              "solidity": 0.2
             }
            },
            "type": "barpolar"
           }
          ],
          "carpet": [
           {
            "aaxis": {
             "endlinecolor": "#2a3f5f",
             "gridcolor": "white",
             "linecolor": "white",
             "minorgridcolor": "white",
             "startlinecolor": "#2a3f5f"
            },
            "baxis": {
             "endlinecolor": "#2a3f5f",
             "gridcolor": "white",
             "linecolor": "white",
             "minorgridcolor": "white",
             "startlinecolor": "#2a3f5f"
            },
            "type": "carpet"
           }
          ],
          "choropleth": [
           {
            "colorbar": {
             "outlinewidth": 0,
             "ticks": ""
            },
            "type": "choropleth"
           }
          ],
          "contour": [
           {
            "colorbar": {
             "outlinewidth": 0,
             "ticks": ""
            },
            "colorscale": [
             [
              0,
              "#0d0887"
             ],
             [
              0.1111111111111111,
              "#46039f"
             ],
             [
              0.2222222222222222,
              "#7201a8"
             ],
             [
              0.3333333333333333,
              "#9c179e"
             ],
             [
              0.4444444444444444,
              "#bd3786"
             ],
             [
              0.5555555555555556,
              "#d8576b"
             ],
             [
              0.6666666666666666,
              "#ed7953"
             ],
             [
              0.7777777777777778,
              "#fb9f3a"
             ],
             [
              0.8888888888888888,
              "#fdca26"
             ],
             [
              1,
              "#f0f921"
             ]
            ],
            "type": "contour"
           }
          ],
          "contourcarpet": [
           {
            "colorbar": {
             "outlinewidth": 0,
             "ticks": ""
            },
            "type": "contourcarpet"
           }
          ],
          "heatmap": [
           {
            "colorbar": {
             "outlinewidth": 0,
             "ticks": ""
            },
            "colorscale": [
             [
              0,
              "#0d0887"
             ],
             [
              0.1111111111111111,
              "#46039f"
             ],
             [
              0.2222222222222222,
              "#7201a8"
             ],
             [
              0.3333333333333333,
              "#9c179e"
             ],
             [
              0.4444444444444444,
              "#bd3786"
             ],
             [
              0.5555555555555556,
              "#d8576b"
             ],
             [
              0.6666666666666666,
              "#ed7953"
             ],
             [
              0.7777777777777778,
              "#fb9f3a"
             ],
             [
              0.8888888888888888,
              "#fdca26"
             ],
             [
              1,
              "#f0f921"
             ]
            ],
            "type": "heatmap"
           }
          ],
          "heatmapgl": [
           {
            "colorbar": {
             "outlinewidth": 0,
             "ticks": ""
            },
            "colorscale": [
             [
              0,
              "#0d0887"
             ],
             [
              0.1111111111111111,
              "#46039f"
             ],
             [
              0.2222222222222222,
              "#7201a8"
             ],
             [
              0.3333333333333333,
              "#9c179e"
             ],
             [
              0.4444444444444444,
              "#bd3786"
             ],
             [
              0.5555555555555556,
              "#d8576b"
             ],
             [
              0.6666666666666666,
              "#ed7953"
             ],
             [
              0.7777777777777778,
              "#fb9f3a"
             ],
             [
              0.8888888888888888,
              "#fdca26"
             ],
             [
              1,
              "#f0f921"
             ]
            ],
            "type": "heatmapgl"
           }
          ],
          "histogram": [
           {
            "marker": {
             "pattern": {
              "fillmode": "overlay",
              "size": 10,
              "solidity": 0.2
             }
            },
            "type": "histogram"
           }
          ],
          "histogram2d": [
           {
            "colorbar": {
             "outlinewidth": 0,
             "ticks": ""
            },
            "colorscale": [
             [
              0,
              "#0d0887"
             ],
             [
              0.1111111111111111,
              "#46039f"
             ],
             [
              0.2222222222222222,
              "#7201a8"
             ],
             [
              0.3333333333333333,
              "#9c179e"
             ],
             [
              0.4444444444444444,
              "#bd3786"
             ],
             [
              0.5555555555555556,
              "#d8576b"
             ],
             [
              0.6666666666666666,
              "#ed7953"
             ],
             [
              0.7777777777777778,
              "#fb9f3a"
             ],
             [
              0.8888888888888888,
              "#fdca26"
             ],
             [
              1,
              "#f0f921"
             ]
            ],
            "type": "histogram2d"
           }
          ],
          "histogram2dcontour": [
           {
            "colorbar": {
             "outlinewidth": 0,
             "ticks": ""
            },
            "colorscale": [
             [
              0,
              "#0d0887"
             ],
             [
              0.1111111111111111,
              "#46039f"
             ],
             [
              0.2222222222222222,
              "#7201a8"
             ],
             [
              0.3333333333333333,
              "#9c179e"
             ],
             [
              0.4444444444444444,
              "#bd3786"
             ],
             [
              0.5555555555555556,
              "#d8576b"
             ],
             [
              0.6666666666666666,
              "#ed7953"
             ],
             [
              0.7777777777777778,
              "#fb9f3a"
             ],
             [
              0.8888888888888888,
              "#fdca26"
             ],
             [
              1,
              "#f0f921"
             ]
            ],
            "type": "histogram2dcontour"
           }
          ],
          "mesh3d": [
           {
            "colorbar": {
             "outlinewidth": 0,
             "ticks": ""
            },
            "type": "mesh3d"
           }
          ],
          "parcoords": [
           {
            "line": {
             "colorbar": {
              "outlinewidth": 0,
              "ticks": ""
             }
            },
            "type": "parcoords"
           }
          ],
          "pie": [
           {
            "automargin": true,
            "type": "pie"
           }
          ],
          "scatter": [
           {
            "marker": {
             "colorbar": {
              "outlinewidth": 0,
              "ticks": ""
             }
            },
            "type": "scatter"
           }
          ],
          "scatter3d": [
           {
            "line": {
             "colorbar": {
              "outlinewidth": 0,
              "ticks": ""
             }
            },
            "marker": {
             "colorbar": {
              "outlinewidth": 0,
              "ticks": ""
             }
            },
            "type": "scatter3d"
           }
          ],
          "scattercarpet": [
           {
            "marker": {
             "colorbar": {
              "outlinewidth": 0,
              "ticks": ""
             }
            },
            "type": "scattercarpet"
           }
          ],
          "scattergeo": [
           {
            "marker": {
             "colorbar": {
              "outlinewidth": 0,
              "ticks": ""
             }
            },
            "type": "scattergeo"
           }
          ],
          "scattergl": [
           {
            "marker": {
             "colorbar": {
              "outlinewidth": 0,
              "ticks": ""
             }
            },
            "type": "scattergl"
           }
          ],
          "scattermapbox": [
           {
            "marker": {
             "colorbar": {
              "outlinewidth": 0,
              "ticks": ""
             }
            },
            "type": "scattermapbox"
           }
          ],
          "scatterpolar": [
           {
            "marker": {
             "colorbar": {
              "outlinewidth": 0,
              "ticks": ""
             }
            },
            "type": "scatterpolar"
           }
          ],
          "scatterpolargl": [
           {
            "marker": {
             "colorbar": {
              "outlinewidth": 0,
              "ticks": ""
             }
            },
            "type": "scatterpolargl"
           }
          ],
          "scatterternary": [
           {
            "marker": {
             "colorbar": {
              "outlinewidth": 0,
              "ticks": ""
             }
            },
            "type": "scatterternary"
           }
          ],
          "surface": [
           {
            "colorbar": {
             "outlinewidth": 0,
             "ticks": ""
            },
            "colorscale": [
             [
              0,
              "#0d0887"
             ],
             [
              0.1111111111111111,
              "#46039f"
             ],
             [
              0.2222222222222222,
              "#7201a8"
             ],
             [
              0.3333333333333333,
              "#9c179e"
             ],
             [
              0.4444444444444444,
              "#bd3786"
             ],
             [
              0.5555555555555556,
              "#d8576b"
             ],
             [
              0.6666666666666666,
              "#ed7953"
             ],
             [
              0.7777777777777778,
              "#fb9f3a"
             ],
             [
              0.8888888888888888,
              "#fdca26"
             ],
             [
              1,
              "#f0f921"
             ]
            ],
            "type": "surface"
           }
          ],
          "table": [
           {
            "cells": {
             "fill": {
              "color": "#EBF0F8"
             },
             "line": {
              "color": "white"
             }
            },
            "header": {
             "fill": {
              "color": "#C8D4E3"
             },
             "line": {
              "color": "white"
             }
            },
            "type": "table"
           }
          ]
         },
         "layout": {
          "annotationdefaults": {
           "arrowcolor": "#2a3f5f",
           "arrowhead": 0,
           "arrowwidth": 1
          },
          "autotypenumbers": "strict",
          "coloraxis": {
           "colorbar": {
            "outlinewidth": 0,
            "ticks": ""
           }
          },
          "colorscale": {
           "diverging": [
            [
             0,
             "#8e0152"
            ],
            [
             0.1,
             "#c51b7d"
            ],
            [
             0.2,
             "#de77ae"
            ],
            [
             0.3,
             "#f1b6da"
            ],
            [
             0.4,
             "#fde0ef"
            ],
            [
             0.5,
             "#f7f7f7"
            ],
            [
             0.6,
             "#e6f5d0"
            ],
            [
             0.7,
             "#b8e186"
            ],
            [
             0.8,
             "#7fbc41"
            ],
            [
             0.9,
             "#4d9221"
            ],
            [
             1,
             "#276419"
            ]
           ],
           "sequential": [
            [
             0,
             "#0d0887"
            ],
            [
             0.1111111111111111,
             "#46039f"
            ],
            [
             0.2222222222222222,
             "#7201a8"
            ],
            [
             0.3333333333333333,
             "#9c179e"
            ],
            [
             0.4444444444444444,
             "#bd3786"
            ],
            [
             0.5555555555555556,
             "#d8576b"
            ],
            [
             0.6666666666666666,
             "#ed7953"
            ],
            [
             0.7777777777777778,
             "#fb9f3a"
            ],
            [
             0.8888888888888888,
             "#fdca26"
            ],
            [
             1,
             "#f0f921"
            ]
           ],
           "sequentialminus": [
            [
             0,
             "#0d0887"
            ],
            [
             0.1111111111111111,
             "#46039f"
            ],
            [
             0.2222222222222222,
             "#7201a8"
            ],
            [
             0.3333333333333333,
             "#9c179e"
            ],
            [
             0.4444444444444444,
             "#bd3786"
            ],
            [
             0.5555555555555556,
             "#d8576b"
            ],
            [
             0.6666666666666666,
             "#ed7953"
            ],
            [
             0.7777777777777778,
             "#fb9f3a"
            ],
            [
             0.8888888888888888,
             "#fdca26"
            ],
            [
             1,
             "#f0f921"
            ]
           ]
          },
          "colorway": [
           "#636efa",
           "#EF553B",
           "#00cc96",
           "#ab63fa",
           "#FFA15A",
           "#19d3f3",
           "#FF6692",
           "#B6E880",
           "#FF97FF",
           "#FECB52"
          ],
          "font": {
           "color": "#2a3f5f"
          },
          "geo": {
           "bgcolor": "white",
           "lakecolor": "white",
           "landcolor": "#E5ECF6",
           "showlakes": true,
           "showland": true,
           "subunitcolor": "white"
          },
          "hoverlabel": {
           "align": "left"
          },
          "hovermode": "closest",
          "mapbox": {
           "style": "light"
          },
          "paper_bgcolor": "white",
          "plot_bgcolor": "#E5ECF6",
          "polar": {
           "angularaxis": {
            "gridcolor": "white",
            "linecolor": "white",
            "ticks": ""
           },
           "bgcolor": "#E5ECF6",
           "radialaxis": {
            "gridcolor": "white",
            "linecolor": "white",
            "ticks": ""
           }
          },
          "scene": {
           "xaxis": {
            "backgroundcolor": "#E5ECF6",
            "gridcolor": "white",
            "gridwidth": 2,
            "linecolor": "white",
            "showbackground": true,
            "ticks": "",
            "zerolinecolor": "white"
           },
           "yaxis": {
            "backgroundcolor": "#E5ECF6",
            "gridcolor": "white",
            "gridwidth": 2,
            "linecolor": "white",
            "showbackground": true,
            "ticks": "",
            "zerolinecolor": "white"
           },
           "zaxis": {
            "backgroundcolor": "#E5ECF6",
            "gridcolor": "white",
            "gridwidth": 2,
            "linecolor": "white",
            "showbackground": true,
            "ticks": "",
            "zerolinecolor": "white"
           }
          },
          "shapedefaults": {
           "line": {
            "color": "#2a3f5f"
           }
          },
          "ternary": {
           "aaxis": {
            "gridcolor": "white",
            "linecolor": "white",
            "ticks": ""
           },
           "baxis": {
            "gridcolor": "white",
            "linecolor": "white",
            "ticks": ""
           },
           "bgcolor": "#E5ECF6",
           "caxis": {
            "gridcolor": "white",
            "linecolor": "white",
            "ticks": ""
           }
          },
          "title": {
           "x": 0.05
          },
          "xaxis": {
           "automargin": true,
           "gridcolor": "white",
           "linecolor": "white",
           "ticks": "",
           "title": {
            "standoff": 15
           },
           "zerolinecolor": "white",
           "zerolinewidth": 2
          },
          "yaxis": {
           "automargin": true,
           "gridcolor": "white",
           "linecolor": "white",
           "ticks": "",
           "title": {
            "standoff": 15
           },
           "zerolinecolor": "white",
           "zerolinewidth": 2
          }
         }
        },
        "title": {
         "text": "Parallel Coordinate Plot"
        }
       }
      }
     },
     "metadata": {}
    }
   ],
   "metadata": {}
  },
  {
   "cell_type": "markdown",
   "source": [
    "# Evaluate Test Results"
   ],
   "metadata": {}
  },
  {
   "cell_type": "code",
   "execution_count": 13,
   "source": [
    "# Run baseline model (default predicting mean)\r\n",
    "preds_baseline = np.zeros_like(test_y)\r\n",
    "preds_baseline = np.mean(train_y) + preds_baseline\r\n",
    "baseline_model_score = mean_absolute_percentage_error(test_y, preds_baseline)\r\n",
    "print('Baseline score (mean) is {:.2f}.'.format(baseline_model_score))"
   ],
   "outputs": [
    {
     "output_type": "stream",
     "name": "stdout",
     "text": [
      "Baseline score (mean) is 1.61.\n"
     ]
    }
   ],
   "metadata": {}
  },
  {
   "cell_type": "code",
   "execution_count": 14,
   "source": [
    "# Rerun default model on full training set and score on test set\r\n",
    "simple_model = model.fit(train_x, train_y)\r\n",
    "simple_model_score = mean_absolute_percentage_error(test_y, model.predict(test_x))\r\n",
    "print('Default parameter model score is {:.2f}'.format(simple_model_score))"
   ],
   "outputs": [
    {
     "output_type": "stream",
     "name": "stdout",
     "text": [
      "Default parameter model score is 0.35\n"
     ]
    }
   ],
   "metadata": {}
  },
  {
   "cell_type": "code",
   "execution_count": 15,
   "source": [
    "# Rerun optimized model on full training set and score on test set\r\n",
    "params = best_trial_optuna.params\r\n",
    "params['loss_function'] = 'RMSE'\r\n",
    "params['eval_metric'] ='RMSE'\r\n",
    "params['verbose'] = False\r\n",
    "params['cat_features'] = cat_features\r\n",
    "params['random_state'] = 42\r\n",
    "opt_model = CatBoostRegressor(**params)\r\n",
    "opt_model.fit(train_x, train_y)\r\n",
    "opt_model_score = mean_absolute_percentage_error(test_y, opt_model.predict(test_x))\r\n",
    "print('Optimized model score is {:.2f}.'.format(opt_model_score))"
   ],
   "outputs": [
    {
     "output_type": "stream",
     "name": "stdout",
     "text": [
      "Optimized model score is 0.33.\n"
     ]
    }
   ],
   "metadata": {}
  },
  {
   "cell_type": "code",
   "execution_count": null,
   "source": [],
   "outputs": [],
   "metadata": {}
  }
 ],
 "metadata": {
  "orig_nbformat": 4,
  "language_info": {
   "name": "python",
   "version": "3.9.6",
   "mimetype": "text/x-python",
   "codemirror_mode": {
    "name": "ipython",
    "version": 3
   },
   "pygments_lexer": "ipython3",
   "nbconvert_exporter": "python",
   "file_extension": ".py"
  },
  "kernelspec": {
   "name": "python3",
   "display_name": "Python 3.9.6 64-bit ('sliced2': conda)"
  },
  "interpreter": {
   "hash": "557bea64a4d33a54b4028138dfa5f7ef28b1855e4803cd7cef7b3f2a14105b37"
  }
 },
 "nbformat": 4,
 "nbformat_minor": 2
}