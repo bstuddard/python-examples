{
 "cells": [
  {
   "cell_type": "code",
   "execution_count": null,
   "id": "cac5007a",
   "metadata": {},
   "outputs": [],
   "source": [
    "import os\n",
    "from llama_cpp import Llama\n",
    "from langchain_community.llms import LlamaCpp"
   ]
  },
  {
   "cell_type": "code",
   "execution_count": null,
   "id": "e9ce0f46",
   "metadata": {},
   "outputs": [],
   "source": [
    "# Create a models directory in your project\n",
    "project_models_dir = os.path.join(os.getcwd(), \"models\", \"unsloth-SmolLM3-3B\")\n",
    "os.makedirs(project_models_dir, exist_ok=True)"
   ]
  },
  {
   "cell_type": "code",
   "execution_count": null,
   "id": "cd3d455b",
   "metadata": {},
   "outputs": [],
   "source": [
    "llm = Llama.from_pretrained(\n",
    "    repo_id=\"unsloth/SmolLM3-3B-128K-GGUF\",\n",
    "    filename=\"*Q4_K_M.gguf\",\n",
    "    local_dir=\"./models/unsloth-SmolLM3-3B\",\n",
    "    verbose=False\n",
    ")"
   ]
  },
  {
   "cell_type": "code",
   "execution_count": null,
   "id": "f36ca9f3",
   "metadata": {},
   "outputs": [],
   "source": [
    "llm2 = LlamaCpp(\n",
    "    model_path='./models/unsloth-SmolLM3-3B/SmolLM3-3B-128K-Q4_K_M.gguf',\n",
    "    temperature=0.6,\n",
    "    top_p=0.95,\n",
    "    n_ctx=131072,\n",
    "    n_batch=1,\n",
    "    n_gpu=-1,\n",
    "    max_tokens=5000, \n",
    "    verbose=False,\n",
    "    chat_format=\"chatml\" \n",
    ")"
   ]
  },
  {
   "cell_type": "code",
   "execution_count": null,
   "id": "5775e643",
   "metadata": {},
   "outputs": [],
   "source": [
    "\n",
    "print(llm2.invoke('What is your name?'))"
   ]
  }
 ],
 "metadata": {
  "kernelspec": {
   "display_name": "local_llama",
   "language": "python",
   "name": "python3"
  },
  "language_info": {
   "codemirror_mode": {
    "name": "ipython",
    "version": 3
   },
   "file_extension": ".py",
   "mimetype": "text/x-python",
   "name": "python",
   "nbconvert_exporter": "python",
   "pygments_lexer": "ipython3",
   "version": "3.11.13"
  }
 },
 "nbformat": 4,
 "nbformat_minor": 5
}
