{
 "cells": [
  {
   "cell_type": "code",
   "execution_count": 3,
   "metadata": {},
   "outputs": [],
   "source": [
    "from langgraph.graph import StateGraph, MessagesState, START, END\n",
    "from langgraph.types import Command\n",
    "from typing_extensions import Literal\n",
    "from langchain_core.messages import HumanMessage, SystemMessage, AIMessage"
   ]
  },
  {
   "cell_type": "code",
   "execution_count": null,
   "metadata": {},
   "outputs": [],
   "source": [
    "class CustomState(MessagesState):\n",
    "    custom_variable_1: str"
   ]
  },
  {
   "cell_type": "code",
   "execution_count": null,
   "metadata": {},
   "outputs": [],
   "source": [
    "def agent_1(state: CustomState) -> Command[Literal['agent_2', '__end__']]:\n",
    "\n",
    "    messages = [\n",
    "        SystemMessage('System Prompt'),\n",
    "        *state['messages']\n",
    "    ]\n",
    "\n",
    "    # Invoke model, structure output, etc\n",
    "\n",
    "    return Command(\n",
    "        goto='agent_2',\n",
    "        update={'custom_variable_1': 'agent_1'}\n",
    "    )"
   ]
  },
  {
   "cell_type": "code",
   "execution_count": null,
   "metadata": {},
   "outputs": [],
   "source": [
    "def agent_2(state: CustomState) -> Command[Literal['__end__']]:\n",
    "\n",
    "    messages = [\n",
    "        SystemMessage('System Prompt'),\n",
    "        *state['messages']\n",
    "    ]\n",
    "\n",
    "    # Invoke model, structure output, etc\n",
    "\n",
    "    return Command(\n",
    "        goto='__end__',\n",
    "        update={'custom_variable_1': 'agent_2'}\n",
    "    )"
   ]
  },
  {
   "cell_type": "code",
   "execution_count": null,
   "metadata": {},
   "outputs": [],
   "source": [
    "def execute_graph(messages_list) -> str:\n",
    "\n",
    "    builder = StateGraph(state_schema=CustomState)\n",
    "    builder.add_node('agent_1', agent_1)\n",
    "    builder.add_node('agent_2', agent_2)\n",
    "\n",
    "    builder.add_edge(START, 'agent_1')\n",
    "\n",
    "    graph = builder.compile()\n",
    "    output = graph.invoke({'messages': messages_list})\n",
    "\n",
    "    return output['messages'][-1].content\n"
   ]
  }
 ],
 "metadata": {
  "kernelspec": {
   "display_name": "langchain_testing_312",
   "language": "python",
   "name": "python3"
  },
  "language_info": {
   "codemirror_mode": {
    "name": "ipython",
    "version": 3
   },
   "file_extension": ".py",
   "mimetype": "text/x-python",
   "name": "python",
   "nbconvert_exporter": "python",
   "pygments_lexer": "ipython3",
   "version": "3.12.9"
  }
 },
 "nbformat": 4,
 "nbformat_minor": 2
}
