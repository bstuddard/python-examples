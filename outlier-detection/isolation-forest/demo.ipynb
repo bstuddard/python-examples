{
 "cells": [
  {
   "cell_type": "markdown",
   "source": [
    "# Isolation Forest Outlier Detection"
   ],
   "metadata": {}
  },
  {
   "cell_type": "code",
   "execution_count": 1,
   "source": [
    "import numpy as np\r\n",
    "import pandas as pd\r\n",
    "from sklearn.ensemble import IsolationForest\r\n",
    "from sklearn.tree import DecisionTreeClassifier\r\n",
    "from sklearn import tree\r\n",
    "\r\n",
    "import matplotlib.pyplot as plt\r\n",
    "import seaborn as sns\r\n",
    "sns.set_theme()\r\n",
    "sns.set_style('darkgrid')"
   ],
   "outputs": [],
   "metadata": {}
  },
  {
   "cell_type": "markdown",
   "source": [
    "# Data Generation"
   ],
   "metadata": {}
  },
  {
   "cell_type": "code",
   "execution_count": 2,
   "source": [
    "np.random.seed(42)\r\n",
    "standard_data = np.random.randn(200)\r\n",
    "outlier_data_plus = np.random.randn(5) + 10.0\r\n",
    "df = pd.DataFrame({'Value': standard_data, 'Distribution': 'Standard'})\r\n",
    "df_outlier_plus = pd.DataFrame({'Value': outlier_data_plus, 'Distribution': 'Outlier'})\r\n",
    "df_combined = df.append(df_outlier_plus).reset_index()"
   ],
   "outputs": [],
   "metadata": {}
  },
  {
   "cell_type": "code",
   "execution_count": 26,
   "source": [
    "df_combined.head()"
   ],
   "outputs": [
    {
     "output_type": "execute_result",
     "data": {
      "text/html": [
       "<div>\n",
       "<style scoped>\n",
       "    .dataframe tbody tr th:only-of-type {\n",
       "        vertical-align: middle;\n",
       "    }\n",
       "\n",
       "    .dataframe tbody tr th {\n",
       "        vertical-align: top;\n",
       "    }\n",
       "\n",
       "    .dataframe thead th {\n",
       "        text-align: right;\n",
       "    }\n",
       "</style>\n",
       "<table border=\"1\" class=\"dataframe\">\n",
       "  <thead>\n",
       "    <tr style=\"text-align: right;\">\n",
       "      <th></th>\n",
       "      <th>index</th>\n",
       "      <th>Value</th>\n",
       "      <th>Distribution</th>\n",
       "      <th>outlier_flag</th>\n",
       "      <th>outlier_flag_ee</th>\n",
       "    </tr>\n",
       "  </thead>\n",
       "  <tbody>\n",
       "    <tr>\n",
       "      <th>0</th>\n",
       "      <td>0</td>\n",
       "      <td>0.496714</td>\n",
       "      <td>Standard</td>\n",
       "      <td>Standard</td>\n",
       "      <td>Standard</td>\n",
       "    </tr>\n",
       "    <tr>\n",
       "      <th>1</th>\n",
       "      <td>1</td>\n",
       "      <td>-0.138264</td>\n",
       "      <td>Standard</td>\n",
       "      <td>Standard</td>\n",
       "      <td>Standard</td>\n",
       "    </tr>\n",
       "    <tr>\n",
       "      <th>2</th>\n",
       "      <td>2</td>\n",
       "      <td>0.647689</td>\n",
       "      <td>Standard</td>\n",
       "      <td>Standard</td>\n",
       "      <td>Standard</td>\n",
       "    </tr>\n",
       "    <tr>\n",
       "      <th>3</th>\n",
       "      <td>3</td>\n",
       "      <td>1.523030</td>\n",
       "      <td>Standard</td>\n",
       "      <td>Standard</td>\n",
       "      <td>Standard</td>\n",
       "    </tr>\n",
       "    <tr>\n",
       "      <th>4</th>\n",
       "      <td>4</td>\n",
       "      <td>-0.234153</td>\n",
       "      <td>Standard</td>\n",
       "      <td>Standard</td>\n",
       "      <td>Standard</td>\n",
       "    </tr>\n",
       "  </tbody>\n",
       "</table>\n",
       "</div>"
      ],
      "text/plain": [
       "   index     Value Distribution outlier_flag outlier_flag_ee\n",
       "0      0  0.496714     Standard     Standard        Standard\n",
       "1      1 -0.138264     Standard     Standard        Standard\n",
       "2      2  0.647689     Standard     Standard        Standard\n",
       "3      3  1.523030     Standard     Standard        Standard\n",
       "4      4 -0.234153     Standard     Standard        Standard"
      ]
     },
     "metadata": {},
     "execution_count": 26
    }
   ],
   "metadata": {}
  },
  {
   "cell_type": "code",
   "execution_count": 4,
   "source": [
    "sns.histplot(data=df_combined, x='Value', hue='Distribution')\r\n",
    "#sns.histplot(outlier_data)"
   ],
   "outputs": [
    {
     "output_type": "execute_result",
     "data": {
      "text/plain": [
       "<AxesSubplot:xlabel='Value', ylabel='Count'>"
      ]
     },
     "metadata": {},
     "execution_count": 4
    },
    {
     "output_type": "display_data",
     "data": {
      "image/png": "[encoded data removed]",
      "text/plain": [
       "<Figure size 432x288 with 1 Axes>"
      ]
     },
     "metadata": {}
    }
   ],
   "metadata": {}
  },
  {
   "cell_type": "markdown",
   "source": [
    "# Fit Isolation Forest"
   ],
   "metadata": {}
  },
  {
   "cell_type": "code",
   "execution_count": 5,
   "source": [
    "# Fit\r\n",
    "outlier_detector = IsolationForest(random_state=42)\r\n",
    "outlier_detector.fit(df_combined.loc[:,['Value']])"
   ],
   "outputs": [
    {
     "output_type": "execute_result",
     "data": {
      "text/plain": [
       "IsolationForest(random_state=42)"
      ]
     },
     "metadata": {},
     "execution_count": 5
    }
   ],
   "metadata": {}
  },
  {
   "cell_type": "code",
   "execution_count": 6,
   "source": [
    "# Predict\r\n",
    "prediction = outlier_detector.predict(df_combined.loc[:,['Value']])\r\n",
    "prediction_strings = ['Outlier' if x < 0 else 'Standard' for x in prediction]"
   ],
   "outputs": [],
   "metadata": {}
  },
  {
   "cell_type": "markdown",
   "source": [
    "# Review Results"
   ],
   "metadata": {}
  },
  {
   "cell_type": "code",
   "execution_count": 7,
   "source": [
    "df_combined['outlier_flag'] = prediction_strings"
   ],
   "outputs": [],
   "metadata": {}
  },
  {
   "cell_type": "code",
   "execution_count": 8,
   "source": [
    "sns.histplot(data=df_combined, x='Value', hue='outlier_flag')"
   ],
   "outputs": [
    {
     "output_type": "execute_result",
     "data": {
      "text/plain": [
       "<AxesSubplot:xlabel='Value', ylabel='Count'>"
      ]
     },
     "metadata": {},
     "execution_count": 8
    },
    {
     "output_type": "display_data",
     "data": {
      "image/png": "[encoded data removed]",
      "text/plain": [
       "<Figure size 432x288 with 1 Axes>"
      ]
     },
     "metadata": {}
    }
   ],
   "metadata": {}
  },
  {
   "cell_type": "code",
   "execution_count": 9,
   "source": [
    "# Calc ground truth counts\r\n",
    "total_points = len(df_combined)\r\n",
    "true_outliers = len(df_combined.loc[df_combined.Distribution == 'Outlier',:])\r\n",
    "true_standard = total_points - true_outliers"
   ],
   "outputs": [],
   "metadata": {}
  },
  {
   "cell_type": "code",
   "execution_count": 10,
   "source": [
    "# Calc predicted counts\r\n",
    "true_positive_outliers = len(df_combined.loc[(df_combined.Distribution == 'Outlier') & (df_combined.outlier_flag == 'Outlier'),:])\r\n",
    "false_negative_outliers = len(df_combined.loc[(df_combined.Distribution == 'Outlier') & (df_combined.outlier_flag != 'Outlier'),:])\r\n",
    "false_positive_outliers = len(df_combined.loc[(df_combined.Distribution != 'Outlier') & (df_combined.outlier_flag == 'Outlier'),:])\r\n",
    "true_negatitive_outliers = len(df_combined.loc[(df_combined.Distribution != 'Outlier') & (df_combined.outlier_flag != 'Outlier'),:])"
   ],
   "outputs": [],
   "metadata": {}
  },
  {
   "cell_type": "code",
   "execution_count": 11,
   "source": [
    "# Display percentage results\r\n",
    "accuracy = (true_positive_outliers + true_negatitive_outliers) / total_points\r\n",
    "precision = true_positive_outliers / (true_positive_outliers + false_positive_outliers)\r\n",
    "recall = true_positive_outliers / (true_positive_outliers + false_negative_outliers)"
   ],
   "outputs": [],
   "metadata": {}
  },
  {
   "cell_type": "code",
   "execution_count": 12,
   "source": [
    "print(f'Accuracy {accuracy:.0%}, Precision {precision:.0%}, Recall {recall:.0%}')"
   ],
   "outputs": [
    {
     "output_type": "stream",
     "name": "stdout",
     "text": [
      "Accuracy 90%, Precision 20%, Recall 100%\n"
     ]
    }
   ],
   "metadata": {}
  },
  {
   "cell_type": "markdown",
   "source": [
    "# Explain Rules"
   ],
   "metadata": {}
  },
  {
   "cell_type": "code",
   "execution_count": 13,
   "source": [
    "clf = DecisionTreeClassifier(random_state=42, max_depth=2)\r\n",
    "clf.fit(df_combined.loc[:,['Value']], df_combined.outlier_flag)\r\n",
    "print(tree.export_text(clf, feature_names=['Value']))"
   ],
   "outputs": [
    {
     "output_type": "stream",
     "name": "stdout",
     "text": [
      "|--- Value <= 1.57\n",
      "|   |--- Value <= -1.50\n",
      "|   |   |--- class: Outlier\n",
      "|   |--- Value >  -1.50\n",
      "|   |   |--- class: Standard\n",
      "|--- Value >  1.57\n",
      "|   |--- class: Outlier\n",
      "\n"
     ]
    }
   ],
   "metadata": {}
  },
  {
   "cell_type": "code",
   "execution_count": 14,
   "source": [
    "score = clf.score(df_combined.loc[:,['Value']], df_combined.outlier_flag)\r\n",
    "print(f'Explainer tree accuracy: {score:.0%}')"
   ],
   "outputs": [
    {
     "output_type": "stream",
     "name": "stdout",
     "text": [
      "Explainer tree accuracy: 99%\n"
     ]
    }
   ],
   "metadata": {}
  },
  {
   "cell_type": "markdown",
   "source": [
    "# Elliptic Envelope\r\n",
    "Run same process, but changing outlier detection algo"
   ],
   "metadata": {}
  },
  {
   "cell_type": "code",
   "execution_count": 15,
   "source": [
    "from sklearn.covariance import EllipticEnvelope"
   ],
   "outputs": [],
   "metadata": {}
  },
  {
   "cell_type": "code",
   "execution_count": 17,
   "source": [
    "outlier_detector_ee = EllipticEnvelope(random_state=42)"
   ],
   "outputs": [],
   "metadata": {}
  },
  {
   "cell_type": "code",
   "execution_count": 18,
   "source": [
    "outlier_detector_ee.fit(df_combined.loc[:,['Value']])"
   ],
   "outputs": [
    {
     "output_type": "execute_result",
     "data": {
      "text/plain": [
       "EllipticEnvelope(random_state=42)"
      ]
     },
     "metadata": {},
     "execution_count": 18
    }
   ],
   "metadata": {}
  },
  {
   "cell_type": "code",
   "execution_count": 19,
   "source": [
    "prediction_ee = outlier_detector_ee.predict(df_combined.loc[:,['Value']])\r\n",
    "prediction_strings_ee = ['Outlier' if x < 0 else 'Standard' for x in prediction_ee]"
   ],
   "outputs": [],
   "metadata": {}
  },
  {
   "cell_type": "code",
   "execution_count": 20,
   "source": [
    "df_combined['outlier_flag_ee'] = prediction_strings_ee"
   ],
   "outputs": [],
   "metadata": {}
  },
  {
   "cell_type": "code",
   "execution_count": 21,
   "source": [
    "sns.histplot(data=df_combined, x='Value', hue='outlier_flag_ee')"
   ],
   "outputs": [
    {
     "output_type": "execute_result",
     "data": {
      "text/plain": [
       "<AxesSubplot:xlabel='Value', ylabel='Count'>"
      ]
     },
     "metadata": {},
     "execution_count": 21
    },
    {
     "output_type": "display_data",
     "data": {
      "image/png": "[encoded data removed]",
      "text/plain": [
       "<Figure size 432x288 with 1 Axes>"
      ]
     },
     "metadata": {}
    }
   ],
   "metadata": {}
  },
  {
   "cell_type": "code",
   "execution_count": 22,
   "source": [
    "# Calc predicted counts - ee\r\n",
    "true_positive_outliers_ee = len(df_combined.loc[(df_combined.Distribution == 'Outlier') & (df_combined.outlier_flag_ee == 'Outlier'),:])\r\n",
    "false_negative_outliers_ee = len(df_combined.loc[(df_combined.Distribution == 'Outlier') & (df_combined.outlier_flag_ee != 'Outlier'),:])\r\n",
    "false_positive_outliers_ee = len(df_combined.loc[(df_combined.Distribution != 'Outlier') & (df_combined.outlier_flag_ee == 'Outlier'),:])\r\n",
    "true_negatitive_outliers_ee = len(df_combined.loc[(df_combined.Distribution != 'Outlier') & (df_combined.outlier_flag_ee != 'Outlier'),:])"
   ],
   "outputs": [],
   "metadata": {}
  },
  {
   "cell_type": "code",
   "execution_count": 23,
   "source": [
    "# Display percentage results\r\n",
    "accuracy_ee = (true_positive_outliers_ee + true_negatitive_outliers_ee) / total_points\r\n",
    "precision_ee = true_positive_outliers_ee / (true_positive_outliers_ee + false_positive_outliers_ee)\r\n",
    "recall_ee = true_positive_outliers_ee / (true_positive_outliers_ee + false_negative_outliers_ee)"
   ],
   "outputs": [],
   "metadata": {}
  },
  {
   "cell_type": "code",
   "execution_count": 24,
   "source": [
    "print(f'Accuracy {accuracy_ee:.0%}, Precision {precision_ee:.0%}, Recall {recall_ee:.0%}')"
   ],
   "outputs": [
    {
     "output_type": "stream",
     "name": "stdout",
     "text": [
      "Accuracy 92%, Precision 24%, Recall 100%\n"
     ]
    }
   ],
   "metadata": {}
  },
  {
   "cell_type": "code",
   "execution_count": null,
   "source": [],
   "outputs": [],
   "metadata": {}
  }
 ],
 "metadata": {
  "orig_nbformat": 4,
  "language_info": {
   "name": "python",
   "version": "3.9.6",
   "mimetype": "text/x-python",
   "codemirror_mode": {
    "name": "ipython",
    "version": 3
   },
   "pygments_lexer": "ipython3",
   "nbconvert_exporter": "python",
   "file_extension": ".py"
  },
  "kernelspec": {
   "name": "python3",
   "display_name": "Python 3.9.6 64-bit ('sliced2': conda)"
  },
  "interpreter": {
   "hash": "557bea64a4d33a54b4028138dfa5f7ef28b1855e4803cd7cef7b3f2a14105b37"
  }
 },
 "nbformat": 4,
 "nbformat_minor": 2
}