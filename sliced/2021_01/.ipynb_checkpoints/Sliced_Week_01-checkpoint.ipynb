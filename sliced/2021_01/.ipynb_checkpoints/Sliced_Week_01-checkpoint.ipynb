{
 "cells": [
  {
   "cell_type": "markdown",
   "id": "91664037",
   "metadata": {},
   "source": [
    "# Sliced Week 1"
   ]
  },
  {
   "cell_type": "markdown",
   "id": "95ed6761",
   "metadata": {},
   "source": [
    "Notes and Caveats:\n",
    "- For more information about this notebook, see the associated [blog article](https://datastud.dev/posts/sliced-2021-w1).\n",
    "- For more data from this competition see https://www.kaggle.com/c/sliced-s01e01\n",
    "- This notebook was put together in under 2 hours in spirit of the SLICED competitions, please excuse any lack of usual documentation :)"
   ]
  },
  {
   "cell_type": "markdown",
   "id": "8e138a5d",
   "metadata": {},
   "source": [
    "## Library and Data Import"
   ]
  },
  {
   "cell_type": "code",
   "execution_count": 1,
   "id": "56f2025d",
   "metadata": {},
   "outputs": [],
   "source": [
    "import pandas as pd\n",
    "import numpy as np\n",
    "import seaborn as sns\n",
    "import matplotlib.pyplot as plt\n",
    "from sklearn.model_selection import train_test_split, cross_val_score\n",
    "from sklearn.ensemble import GradientBoostingRegressor\n",
    "from sklearn.preprocessing import LabelEncoder\n",
    "from sklearn.metrics import mean_squared_error\n",
    "\n",
    "%matplotlib inline\n",
    "sns.set_theme()"
   ]
  },
  {
   "cell_type": "code",
   "execution_count": 2,
   "id": "0592d469",
   "metadata": {},
   "outputs": [],
   "source": [
    "df = pd.read_csv('train.csv')"
   ]
  },
  {
   "cell_type": "markdown",
   "id": "8785affa",
   "metadata": {},
   "source": [
    "## EDA"
   ]
  },
  {
   "cell_type": "code",
   "execution_count": 3,
   "id": "61978b77",
   "metadata": {},
   "outputs": [
    {
     "data": {
      "text/html": [
       "<div>\n",
       "<style scoped>\n",
       "    .dataframe tbody tr th:only-of-type {\n",
       "        vertical-align: middle;\n",
       "    }\n",
       "\n",
       "    .dataframe tbody tr th {\n",
       "        vertical-align: top;\n",
       "    }\n",
       "\n",
       "    .dataframe thead th {\n",
       "        text-align: right;\n",
       "    }\n",
       "</style>\n",
       "<table border=\"1\" class=\"dataframe\">\n",
       "  <thead>\n",
       "    <tr style=\"text-align: right;\">\n",
       "      <th></th>\n",
       "      <th>game_id</th>\n",
       "      <th>names</th>\n",
       "      <th>min_players</th>\n",
       "      <th>max_players</th>\n",
       "      <th>avg_time</th>\n",
       "      <th>min_time</th>\n",
       "      <th>max_time</th>\n",
       "      <th>year</th>\n",
       "      <th>geek_rating</th>\n",
       "      <th>num_votes</th>\n",
       "      <th>...</th>\n",
       "      <th>category4</th>\n",
       "      <th>category5</th>\n",
       "      <th>category6</th>\n",
       "      <th>category7</th>\n",
       "      <th>category8</th>\n",
       "      <th>category9</th>\n",
       "      <th>category10</th>\n",
       "      <th>category11</th>\n",
       "      <th>category12</th>\n",
       "      <th>designer</th>\n",
       "    </tr>\n",
       "  </thead>\n",
       "  <tbody>\n",
       "    <tr>\n",
       "      <th>0</th>\n",
       "      <td>17526</td>\n",
       "      <td>Hecatomb</td>\n",
       "      <td>2</td>\n",
       "      <td>4</td>\n",
       "      <td>30</td>\n",
       "      <td>30</td>\n",
       "      <td>30</td>\n",
       "      <td>2005</td>\n",
       "      <td>5.70135</td>\n",
       "      <td>360</td>\n",
       "      <td>...</td>\n",
       "      <td>NaN</td>\n",
       "      <td>NaN</td>\n",
       "      <td>NaN</td>\n",
       "      <td>NaN</td>\n",
       "      <td>NaN</td>\n",
       "      <td>NaN</td>\n",
       "      <td>NaN</td>\n",
       "      <td>NaN</td>\n",
       "      <td>NaN</td>\n",
       "      <td>Mike Elliott, Jonathan Tweet</td>\n",
       "    </tr>\n",
       "    <tr>\n",
       "      <th>1</th>\n",
       "      <td>156</td>\n",
       "      <td>Wildlife Adventure</td>\n",
       "      <td>2</td>\n",
       "      <td>6</td>\n",
       "      <td>60</td>\n",
       "      <td>60</td>\n",
       "      <td>60</td>\n",
       "      <td>1985</td>\n",
       "      <td>5.92648</td>\n",
       "      <td>535</td>\n",
       "      <td>...</td>\n",
       "      <td>NaN</td>\n",
       "      <td>NaN</td>\n",
       "      <td>NaN</td>\n",
       "      <td>NaN</td>\n",
       "      <td>NaN</td>\n",
       "      <td>NaN</td>\n",
       "      <td>NaN</td>\n",
       "      <td>NaN</td>\n",
       "      <td>NaN</td>\n",
       "      <td>Wolfgang Kramer, Ursula Kramer</td>\n",
       "    </tr>\n",
       "    <tr>\n",
       "      <th>2</th>\n",
       "      <td>2397</td>\n",
       "      <td>Backgammon</td>\n",
       "      <td>2</td>\n",
       "      <td>2</td>\n",
       "      <td>30</td>\n",
       "      <td>30</td>\n",
       "      <td>30</td>\n",
       "      <td>-3000</td>\n",
       "      <td>6.37107</td>\n",
       "      <td>9684</td>\n",
       "      <td>...</td>\n",
       "      <td>NaN</td>\n",
       "      <td>NaN</td>\n",
       "      <td>NaN</td>\n",
       "      <td>NaN</td>\n",
       "      <td>NaN</td>\n",
       "      <td>NaN</td>\n",
       "      <td>NaN</td>\n",
       "      <td>NaN</td>\n",
       "      <td>NaN</td>\n",
       "      <td>(Uncredited)</td>\n",
       "    </tr>\n",
       "    <tr>\n",
       "      <th>3</th>\n",
       "      <td>8147</td>\n",
       "      <td>Maka Bana</td>\n",
       "      <td>2</td>\n",
       "      <td>6</td>\n",
       "      <td>60</td>\n",
       "      <td>45</td>\n",
       "      <td>60</td>\n",
       "      <td>2003</td>\n",
       "      <td>5.90326</td>\n",
       "      <td>658</td>\n",
       "      <td>...</td>\n",
       "      <td>NaN</td>\n",
       "      <td>NaN</td>\n",
       "      <td>NaN</td>\n",
       "      <td>NaN</td>\n",
       "      <td>NaN</td>\n",
       "      <td>NaN</td>\n",
       "      <td>NaN</td>\n",
       "      <td>NaN</td>\n",
       "      <td>NaN</td>\n",
       "      <td>François Haffner</td>\n",
       "    </tr>\n",
       "    <tr>\n",
       "      <th>4</th>\n",
       "      <td>92190</td>\n",
       "      <td>Super Dungeon Explore</td>\n",
       "      <td>2</td>\n",
       "      <td>6</td>\n",
       "      <td>120</td>\n",
       "      <td>120</td>\n",
       "      <td>120</td>\n",
       "      <td>2011</td>\n",
       "      <td>6.37715</td>\n",
       "      <td>2338</td>\n",
       "      <td>...</td>\n",
       "      <td>Fighting</td>\n",
       "      <td>Miniatures</td>\n",
       "      <td>NaN</td>\n",
       "      <td>NaN</td>\n",
       "      <td>NaN</td>\n",
       "      <td>NaN</td>\n",
       "      <td>NaN</td>\n",
       "      <td>NaN</td>\n",
       "      <td>NaN</td>\n",
       "      <td>Chris Birkenhagen, John Cadice, Deke Stella</td>\n",
       "    </tr>\n",
       "  </tbody>\n",
       "</table>\n",
       "<p>5 rows × 26 columns</p>\n",
       "</div>"
      ],
      "text/plain": [
       "   game_id                  names  min_players  max_players  avg_time  \\\n",
       "0    17526               Hecatomb            2            4        30   \n",
       "1      156     Wildlife Adventure            2            6        60   \n",
       "2     2397             Backgammon            2            2        30   \n",
       "3     8147              Maka Bana            2            6        60   \n",
       "4    92190  Super Dungeon Explore            2            6       120   \n",
       "\n",
       "   min_time  max_time  year  geek_rating  num_votes  ...  category4  \\\n",
       "0        30        30  2005      5.70135        360  ...        NaN   \n",
       "1        60        60  1985      5.92648        535  ...        NaN   \n",
       "2        30        30 -3000      6.37107       9684  ...        NaN   \n",
       "3        45        60  2003      5.90326        658  ...        NaN   \n",
       "4       120       120  2011      6.37715       2338  ...   Fighting   \n",
       "\n",
       "     category5  category6 category7 category8 category9 category10 category11  \\\n",
       "0          NaN        NaN       NaN       NaN       NaN        NaN        NaN   \n",
       "1          NaN        NaN       NaN       NaN       NaN        NaN        NaN   \n",
       "2          NaN        NaN       NaN       NaN       NaN        NaN        NaN   \n",
       "3          NaN        NaN       NaN       NaN       NaN        NaN        NaN   \n",
       "4   Miniatures        NaN       NaN       NaN       NaN        NaN        NaN   \n",
       "\n",
       "  category12                                     designer  \n",
       "0        NaN                 Mike Elliott, Jonathan Tweet  \n",
       "1        NaN               Wolfgang Kramer, Ursula Kramer  \n",
       "2        NaN                                 (Uncredited)  \n",
       "3        NaN                             François Haffner  \n",
       "4        NaN  Chris Birkenhagen, John Cadice, Deke Stella  \n",
       "\n",
       "[5 rows x 26 columns]"
      ]
     },
     "execution_count": 3,
     "metadata": {},
     "output_type": "execute_result"
    }
   ],
   "source": [
    "df.head()"
   ]
  },
  {
   "cell_type": "code",
   "execution_count": 4,
   "id": "a66a1bb7",
   "metadata": {},
   "outputs": [
    {
     "data": {
      "text/plain": [
       "3499"
      ]
     },
     "execution_count": 4,
     "metadata": {},
     "output_type": "execute_result"
    }
   ],
   "source": [
    "len(df)"
   ]
  },
  {
   "cell_type": "code",
   "execution_count": 5,
   "id": "ff7137e1",
   "metadata": {},
   "outputs": [],
   "source": [
    "train_df, valid_df = train_test_split(df, test_size=0.3, random_state=42)\n",
    "train_df = train_df.copy()\n",
    "valid_df = valid_df.copy()"
   ]
  },
  {
   "cell_type": "code",
   "execution_count": 6,
   "id": "48e7ba23",
   "metadata": {},
   "outputs": [
    {
     "data": {
      "text/plain": [
       "Index(['game_id', 'names', 'min_players', 'max_players', 'avg_time',\n",
       "       'min_time', 'max_time', 'year', 'geek_rating', 'num_votes', 'age',\n",
       "       'mechanic', 'owned', 'category1', 'category2', 'category3', 'category4',\n",
       "       'category5', 'category6', 'category7', 'category8', 'category9',\n",
       "       'category10', 'category11', 'category12', 'designer'],\n",
       "      dtype='object')"
      ]
     },
     "execution_count": 6,
     "metadata": {},
     "output_type": "execute_result"
    }
   ],
   "source": [
    "train_df.columns"
   ]
  },
  {
   "cell_type": "code",
   "execution_count": 7,
   "id": "7fbd1508",
   "metadata": {},
   "outputs": [
    {
     "data": {
      "text/plain": [
       "<seaborn.axisgrid.PairGrid at 0x1fa3fffdd90>"
      ]
     },
     "execution_count": 7,
     "metadata": {},
     "output_type": "execute_result"
    },
    {
     "data": {
      "image/png": "[encoded data removed]",
      "text/plain": [
       "<Figure size 1260x180 with 7 Axes>"
      ]
     },
     "metadata": {},
     "output_type": "display_data"
    }
   ],
   "source": [
    "pg = sns.PairGrid(train_df, x_vars=['min_players', 'max_players', 'avg_time', 'year', 'owned', 'num_votes', 'age'], y_vars=['geek_rating'])\n",
    "pg.map(sns.scatterplot)"
   ]
  },
  {
   "cell_type": "code",
   "execution_count": 8,
   "id": "9946fc00",
   "metadata": {},
   "outputs": [
    {
     "data": {
      "text/plain": [
       "<AxesSubplot:xlabel='geek_rating', ylabel='Count'>"
      ]
     },
     "execution_count": 8,
     "metadata": {},
     "output_type": "execute_result"
    },
    {
     "data": {
      "image/png": "[encoded data removed]",
      "text/plain": [
       "<Figure size 432x288 with 1 Axes>"
      ]
     },
     "metadata": {},
     "output_type": "display_data"
    }
   ],
   "source": [
    "sns.histplot(train_df, x='geek_rating')"
   ]
  },
  {
   "cell_type": "code",
   "execution_count": 9,
   "id": "b8f5a453",
   "metadata": {},
   "outputs": [
    {
     "data": {
      "text/plain": [
       "count    2449.000000\n",
       "mean        6.091477\n",
       "std         0.482223\n",
       "min         5.640240\n",
       "25%         5.728930\n",
       "50%         5.913190\n",
       "75%         6.305490\n",
       "max         8.165450\n",
       "Name: geek_rating, dtype: float64"
      ]
     },
     "execution_count": 9,
     "metadata": {},
     "output_type": "execute_result"
    }
   ],
   "source": [
    "train_df.geek_rating.describe()"
   ]
  },
  {
   "cell_type": "code",
   "execution_count": 10,
   "id": "608e432a",
   "metadata": {},
   "outputs": [],
   "source": [
    "median_rating = np.nanmedian(train_df.geek_rating)"
   ]
  },
  {
   "cell_type": "code",
   "execution_count": 11,
   "id": "5321c7f7",
   "metadata": {},
   "outputs": [],
   "source": [
    "def above_median(df, median_rating_score):\n",
    "    if df.geek_rating > median_rating_score:\n",
    "        return 'High Score'\n",
    "    else:\n",
    "        return 'Low Score'"
   ]
  },
  {
   "cell_type": "code",
   "execution_count": 12,
   "id": "a5cc300e",
   "metadata": {},
   "outputs": [],
   "source": [
    "train_df['rating_group'] = train_df.apply(lambda row: above_median(row, median_rating), axis=1)"
   ]
  },
  {
   "cell_type": "code",
   "execution_count": 13,
   "id": "63fcedb4",
   "metadata": {},
   "outputs": [
    {
     "data": {
      "text/plain": [
       "<AxesSubplot:xlabel='min_players', ylabel='geek_rating'>"
      ]
     },
     "execution_count": 13,
     "metadata": {},
     "output_type": "execute_result"
    },
    {
     "data": {
      "image/png": "[encoded data removed]",
      "text/plain": [
       "<Figure size 432x288 with 1 Axes>"
      ]
     },
     "metadata": {},
     "output_type": "display_data"
    }
   ],
   "source": [
    "sns.boxplot(data=train_df, x='min_players', y='geek_rating')"
   ]
  },
  {
   "cell_type": "code",
   "execution_count": 14,
   "id": "95d5042b",
   "metadata": {},
   "outputs": [
    {
     "data": {
      "text/plain": [
       "<AxesSubplot:xlabel='max_players', ylabel='geek_rating'>"
      ]
     },
     "execution_count": 14,
     "metadata": {},
     "output_type": "execute_result"
    },
    {
     "data": {
      "image/png": "[encoded data removed]",
      "text/plain": [
       "<Figure size 432x288 with 1 Axes>"
      ]
     },
     "metadata": {},
     "output_type": "display_data"
    }
   ],
   "source": [
    "sns.boxplot(data=train_df, x='max_players', y='geek_rating')"
   ]
  },
  {
   "cell_type": "code",
   "execution_count": 15,
   "id": "8c950d6b",
   "metadata": {},
   "outputs": [
    {
     "data": {
      "text/plain": [
       "mechanic\n",
       "Modular Board, Pick-up and Deliver, Set Collection                                                                                                                5.64443\n",
       "Area Control / Area Influence, Dice Rolling, Hand Management, Modular Board, Worker Placement                                                                     5.64439\n",
       "Action Point Allowance System, Area Control / Area Influence, Campaign / Battle Card Driven                                                                       5.64424\n",
       "Grid Movement, Partnerships, Secret Unit Deployment                                                                                                               5.64412\n",
       "Auction/Bidding, Pattern Building                                                                                                                                 5.64395\n",
       "Action Point Allowance System, Area Control / Area Influence, Co-operative Play, Grid Movement, Modular Board, Point to Point Movement, Variable Player Powers    5.64394\n",
       "Betting/Wagering, Dice Rolling, Grid Movement                                                                                                                     5.64394\n",
       "Hand Management, Voting                                                                                                                                           5.64391\n",
       "Acting, Dice Rolling, Line Drawing, Partnerships                                                                                                                  5.64354\n",
       "Area Control / Area Influence, Card Drafting, Hand Management, Set Collection, Take That                                                                          5.64347\n",
       "Area Movement, Modular Board, Simultaneous Action Selection                                                                                                       5.64303\n",
       "Acting, Paper-and-Pencil, Roll / Spin and Move, Singing                                                                                                           5.64281\n",
       "Hand Management, Memory, Set Collection                                                                                                                           5.64258\n",
       "Co-operative Play, Dice Rolling, Hand Management                                                                                                                  5.64127\n",
       "Area-Impulse, Dice Rolling                                                                                                                                        5.64117\n",
       "Auction/Bidding, Hand Management, Simultaneous Action Selection                                                                                                   5.64090\n",
       "Co-operative Play, Hand Management, Modular Board, Variable Player Powers                                                                                         5.64088\n",
       "Press Your Luck, Worker Placement                                                                                                                                 5.64085\n",
       "Acting, Hand Management                                                                                                                                           5.64056\n",
       "Action Point Allowance System, Co-operative Play, Dice Rolling, Point to Point Movement, Variable Phase Order, Variable Player Powers                             5.64035\n",
       "Name: geek_rating, dtype: float64"
      ]
     },
     "execution_count": 15,
     "metadata": {},
     "output_type": "execute_result"
    }
   ],
   "source": [
    "train_df.groupby('mechanic')['geek_rating'].mean().sort_values(ascending=False)[-20:]"
   ]
  },
  {
   "cell_type": "markdown",
   "id": "51bb337f",
   "metadata": {},
   "source": [
    "## Feature Engineering"
   ]
  },
  {
   "cell_type": "markdown",
   "id": "549072c5",
   "metadata": {},
   "source": [
    "### Number of Players - Rollup"
   ]
  },
  {
   "cell_type": "code",
   "execution_count": 16,
   "id": "03b69ce4",
   "metadata": {},
   "outputs": [],
   "source": [
    "def player_grouping(df):\n",
    "    if df['min_players'] <= 0:\n",
    "        return 'Low'\n",
    "    elif df['max_players'] <= 3:\n",
    "        return 'Low'\n",
    "    elif df['min_players'] == 8:\n",
    "        return 'Exact'\n",
    "    elif df['min_players'] == 5:\n",
    "        return 'Odd'\n",
    "    elif df['max_players'] > 3 and df['max_players'] <= 7:\n",
    "        return 'Exact'\n",
    "    else:\n",
    "        return 'Other'"
   ]
  },
  {
   "cell_type": "code",
   "execution_count": 17,
   "id": "14023cf3",
   "metadata": {},
   "outputs": [],
   "source": [
    "train_df['player_grouping'] = train_df.apply(lambda row: player_grouping(row), axis=1)\n",
    "valid_df['player_grouping'] = valid_df.apply(lambda row: player_grouping(row), axis=1)"
   ]
  },
  {
   "cell_type": "code",
   "execution_count": 18,
   "id": "ed0b542f",
   "metadata": {},
   "outputs": [
    {
     "data": {
      "text/plain": [
       "<AxesSubplot:xlabel='player_grouping', ylabel='geek_rating'>"
      ]
     },
     "execution_count": 18,
     "metadata": {},
     "output_type": "execute_result"
    },
    {
     "data": {
      "image/png": "[encoded data removed]",
      "text/plain": [
       "<Figure size 432x288 with 1 Axes>"
      ]
     },
     "metadata": {},
     "output_type": "display_data"
    }
   ],
   "source": [
    "sns.boxplot(data=train_df, x='player_grouping', y='geek_rating')"
   ]
  },
  {
   "cell_type": "code",
   "execution_count": 19,
   "id": "a77cf3b3",
   "metadata": {},
   "outputs": [],
   "source": [
    "le = LabelEncoder()\n",
    "le.fit(train_df['player_grouping'])\n",
    "train_df['player_grouping'] = le.transform(train_df['player_grouping'])\n",
    "valid_df['player_grouping'] = le.transform(valid_df['player_grouping'])"
   ]
  },
  {
   "cell_type": "markdown",
   "id": "9cf55e26",
   "metadata": {},
   "source": [
    "### Category Lookup"
   ]
  },
  {
   "cell_type": "code",
   "execution_count": 20,
   "id": "a3bbbc52",
   "metadata": {},
   "outputs": [],
   "source": [
    "category_lookup_dict = dict(train_df.groupby('category1')['geek_rating'].mean())"
   ]
  },
  {
   "cell_type": "code",
   "execution_count": 21,
   "id": "1713dd9d",
   "metadata": {},
   "outputs": [],
   "source": [
    "def get_combined_category_scoring(df, category_dict, col_list):\n",
    "    score_list = []\n",
    "    for col in col_list:\n",
    "        if df[col] != np.nan:\n",
    "            try:\n",
    "                score_list.append(category_dict[df[col]])\n",
    "            except:\n",
    "                pass\n",
    "    if len(score_list) > 0:\n",
    "        return np.mean(score_list)\n",
    "    else:\n",
    "        return 6.09"
   ]
  },
  {
   "cell_type": "code",
   "execution_count": 22,
   "id": "26474ad9",
   "metadata": {},
   "outputs": [
    {
     "data": {
      "text/plain": [
       "['category1',\n",
       " 'category2',\n",
       " 'category3',\n",
       " 'category4',\n",
       " 'category5',\n",
       " 'category6',\n",
       " 'category7',\n",
       " 'category8',\n",
       " 'category9',\n",
       " 'category10',\n",
       " 'category11',\n",
       " 'category12']"
      ]
     },
     "execution_count": 22,
     "metadata": {},
     "output_type": "execute_result"
    }
   ],
   "source": [
    "col_list_cat = [col for col in train_df.columns if 'category' in col]\n",
    "col_list_cat"
   ]
  },
  {
   "cell_type": "code",
   "execution_count": 23,
   "id": "dbd1ff06",
   "metadata": {},
   "outputs": [],
   "source": [
    "train_df['cat_score'] = train_df.apply(lambda row: get_combined_category_scoring(row, category_lookup_dict, col_list_cat), axis=1)\n",
    "valid_df['cat_score'] = valid_df.apply(lambda row: get_combined_category_scoring(row, category_lookup_dict, col_list_cat), axis=1)"
   ]
  },
  {
   "cell_type": "markdown",
   "id": "3bc1c2f9",
   "metadata": {},
   "source": [
    "### Mechanic"
   ]
  },
  {
   "cell_type": "code",
   "execution_count": 24,
   "id": "4f8920f9",
   "metadata": {},
   "outputs": [],
   "source": [
    "def get_mechanic_positive_keyword(df, keywords=['Area', 'Variable'], negative_keywords=['Dice']):\n",
    "    for keyword in keywords:\n",
    "        if keyword in df['mechanic']:\n",
    "            return 1\n",
    "    for negative_keyword in negative_keywords:\n",
    "        if negative_keyword in df['mechanic']:\n",
    "            return -1\n",
    "    return 0"
   ]
  },
  {
   "cell_type": "code",
   "execution_count": 25,
   "id": "12890fb0",
   "metadata": {},
   "outputs": [],
   "source": [
    "train_df['mechanic_group'] = train_df.apply(lambda row: get_mechanic_positive_keyword(row), axis=1)\n",
    "valid_df['mechanic_group'] = valid_df.apply(lambda row: get_mechanic_positive_keyword(row), axis=1)"
   ]
  },
  {
   "cell_type": "markdown",
   "id": "a53f30ef",
   "metadata": {},
   "source": [
    "## Feature Selection"
   ]
  },
  {
   "cell_type": "code",
   "execution_count": 26,
   "id": "6b73f113",
   "metadata": {},
   "outputs": [],
   "source": [
    "feature_cols = ['age', 'player_grouping', 'owned', 'num_votes', 'cat_score', 'min_players', 'max_players', 'avg_time',\n",
    "       'min_time', 'max_time', 'year', 'mechanic_group']\n",
    "target_col = 'geek_rating'"
   ]
  },
  {
   "cell_type": "code",
   "execution_count": 27,
   "id": "3b065fdd",
   "metadata": {},
   "outputs": [],
   "source": [
    "x = train_df[feature_cols]\n",
    "y = train_df[target_col]\n",
    "valid_x = valid_df[feature_cols]\n",
    "valid_y = valid_df[target_col]"
   ]
  },
  {
   "cell_type": "markdown",
   "id": "fa1bc6fe",
   "metadata": {},
   "source": [
    "## Model"
   ]
  },
  {
   "cell_type": "code",
   "execution_count": 28,
   "id": "12f78f2d",
   "metadata": {},
   "outputs": [
    {
     "name": "stdout",
     "output_type": "stream",
     "text": [
      "RMSE for training set: 0.1414493858274536\n"
     ]
    }
   ],
   "source": [
    "reg = GradientBoostingRegressor()\n",
    "reg.fit(x, y)\n",
    "predictions = reg.predict(x)\n",
    "print(f'RMSE for training set: {np.sqrt(mean_squared_error(y_true=y, y_pred=predictions))}')"
   ]
  },
  {
   "cell_type": "code",
   "execution_count": 29,
   "id": "1b8f3e93",
   "metadata": {},
   "outputs": [
    {
     "name": "stdout",
     "output_type": "stream",
     "text": [
      "RMSE for validation set: 0.1682023840662794\n"
     ]
    }
   ],
   "source": [
    "valid_predictions = reg.predict(valid_x)\n",
    "print(f'RMSE for validation set: {np.sqrt(mean_squared_error(y_true=valid_y, y_pred=valid_predictions))}')"
   ]
  },
  {
   "cell_type": "markdown",
   "id": "3d9a3a29",
   "metadata": {},
   "source": [
    "## Test Predictions"
   ]
  },
  {
   "cell_type": "code",
   "execution_count": 30,
   "id": "de82c445",
   "metadata": {},
   "outputs": [],
   "source": [
    "test_df = pd.read_csv('test.csv')"
   ]
  },
  {
   "cell_type": "code",
   "execution_count": 31,
   "id": "d97f5e76",
   "metadata": {},
   "outputs": [],
   "source": [
    "test_df['player_grouping'] = test_df.apply(lambda row: player_grouping(row), axis=1)\n",
    "test_df['player_grouping'] = le.transform(test_df['player_grouping'])\n",
    "test_df['cat_score'] = test_df.apply(lambda row: get_combined_category_scoring(row, category_lookup_dict, col_list_cat), axis=1)\n",
    "test_df['mechanic_group'] = test_df.apply(lambda row: get_mechanic_positive_keyword(row), axis=1)"
   ]
  },
  {
   "cell_type": "code",
   "execution_count": 32,
   "id": "f2141c4a",
   "metadata": {},
   "outputs": [],
   "source": [
    "test_x = test_df[feature_cols]"
   ]
  },
  {
   "cell_type": "code",
   "execution_count": 33,
   "id": "00201095",
   "metadata": {},
   "outputs": [],
   "source": [
    "test_predictions = reg.predict(test_x)"
   ]
  },
  {
   "cell_type": "code",
   "execution_count": 34,
   "id": "0a124bbc",
   "metadata": {},
   "outputs": [],
   "source": [
    "test_df[target_col] = test_predictions"
   ]
  },
  {
   "cell_type": "code",
   "execution_count": 35,
   "id": "3fc53ecf",
   "metadata": {},
   "outputs": [],
   "source": [
    "submission_df = test_df[['game_id', target_col]]"
   ]
  },
  {
   "cell_type": "code",
   "execution_count": 36,
   "id": "c43eac1a",
   "metadata": {},
   "outputs": [],
   "source": [
    "submission_df.to_csv('submission6.csv', index=False)"
   ]
  }
 ],
 "metadata": {
  "kernelspec": {
   "display_name": "Python 3",
   "language": "python",
   "name": "python3"
  },
  "language_info": {
   "codemirror_mode": {
    "name": "ipython",
    "version": 3
   },
   "file_extension": ".py",
   "mimetype": "text/x-python",
   "name": "python",
   "nbconvert_exporter": "python",
   "pygments_lexer": "ipython3",
   "version": "3.9.5"
  }
 },
 "nbformat": 4,
 "nbformat_minor": 5
}
