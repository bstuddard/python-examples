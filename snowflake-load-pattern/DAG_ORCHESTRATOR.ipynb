{
 "cells": [
  {
   "cell_type": "markdown",
   "id": "dd21304a-1921-404d-9580-9e15e1018b9e",
   "metadata": {
    "collapsed": false,
    "name": "cell10"
   },
   "source": [
    "# DAGs in Snowflake\n",
    "Let's say we have multiple notebooks that we want to schedule with a dependency graph. One option would be to create tasks, but they may be a bit granular and hard to visualize in a connected DAG via code. Snowflake offers a dag library where we can create this dependency graph via code.\n",
    "\n",
    "In this example, we'll assume something simple - two notebooks where one needs to be run after the other. The notebooks don't really do anything (just printing characters), but the focus here is just on orchestration. \n",
    "\n",
    "We need to include the snowflake library as a package dependency in the notebook which allows us to execute these APIs. High level: \n",
    "1. Imports and grab session/root instances.\n",
    "2. Create our dag with a context manager. Deploy to the same database/schema where the etl notebooks live.\n",
    "3. Interactively test - grab the task instance and kick it off. In a production environment we'd have this scheduled with cron. "
   ]
  },
  {
   "cell_type": "markdown",
   "id": "854e5a19-4459-497e-a96f-2262406a3a95",
   "metadata": {
    "collapsed": false,
    "name": "cell1"
   },
   "source": [
    "## Libraries and Imports"
   ]
  },
  {
   "cell_type": "code",
   "execution_count": null,
   "id": "3775908f-ca36-4846-8f38-5adca39217f2",
   "metadata": {
    "language": "python",
    "name": "libaries_and_imports"
   },
   "outputs": [],
   "source": [
    "from snowflake.snowpark import Session\n",
    "from snowflake.core.task.dagv1 import DAG, DAGTask, DAGOperation\n",
    "from snowflake.core import CreateMode\n",
    "from snowflake.core import Root"
   ]
  },
  {
   "cell_type": "code",
   "execution_count": null,
   "id": "7bb7d52c-0e3f-433c-8316-f668d77d0ed6",
   "metadata": {
    "codeCollapsed": false,
    "language": "python",
    "name": "session_root_instance"
   },
   "outputs": [],
   "source": [
    "# Get active session in notebook\n",
    "session = get_active_session()\n",
    "root = Root(session)"
   ]
  },
  {
   "cell_type": "markdown",
   "id": "14057956-16cf-440a-8919-15147cb51c7b",
   "metadata": {
    "collapsed": false,
    "name": "cell2"
   },
   "source": [
    "## Define Dag"
   ]
  },
  {
   "cell_type": "code",
   "execution_count": null,
   "id": "58592a82-c944-4295-b277-a32649f6b9b0",
   "metadata": {
    "codeCollapsed": false,
    "language": "python",
    "name": "define_dag"
   },
   "outputs": [],
   "source": [
    "with DAG(\n",
    "    name='dag_orchestrator',\n",
    "    warehouse='COMPUTE_WH'\n",
    ") as dag:\n",
    "    task_a = DAGTask(\n",
    "        name=\"task_a\",\n",
    "        definition=\"EXECUTE NOTEBOOK TASK_A();\"\n",
    "    )\n",
    "    task_b = DAGTask(\n",
    "        name=\"task_b\",\n",
    "        definition=\"EXECUTE NOTEBOOK TASK_B();\"\n",
    "    )\n",
    "    task_a >> task_b  # Dependency: task_b waits for task_a success"
   ]
  },
  {
   "cell_type": "markdown",
   "id": "b7c76aca-21f0-4755-a940-8e77b54e1f19",
   "metadata": {
    "collapsed": false,
    "name": "cell3"
   },
   "source": [
    "## Deploy and single test"
   ]
  },
  {
   "cell_type": "code",
   "execution_count": null,
   "id": "89fb67a7-e7f7-4216-96cb-62919ca8fc88",
   "metadata": {
    "codeCollapsed": false,
    "language": "python",
    "name": "deploy_dag"
   },
   "outputs": [],
   "source": [
    "dag_op = DAGOperation(root.databases['LEARNING_DB'].schemas['ETL'])\n",
    "dag_op.deploy(dag, mode=CreateMode.or_replace)"
   ]
  },
  {
   "cell_type": "code",
   "execution_count": null,
   "id": "70c989b5-1fb2-4d89-94c4-922de964d096",
   "metadata": {
    "codeCollapsed": false,
    "language": "python",
    "name": "execute_dag"
   },
   "outputs": [],
   "source": [
    "tasks = root.databases[\"LEARNING_DB\"].schemas[\"ETL\"].tasks\n",
    "dag_res = tasks['dag_orchestrator']\n",
    "dag_res.execute()"
   ]
  },
  {
   "cell_type": "code",
   "execution_count": null,
   "id": "3c17c0ef-e5c4-4637-bd89-5dde989cf885",
   "metadata": {
    "codeCollapsed": false,
    "language": "sql",
    "name": "view_results"
   },
   "outputs": [],
   "source": [
    "SELECT * FROM TABLE(INFORMATION_SCHEMA.TASK_HISTORY(TASK_NAME => 'dag_orchestrator')) ORDER BY SCHEDULED_TIME DESC"
   ]
  }
 ],
 "metadata": {
  "kernelspec": {
   "display_name": "Streamlit Notebook",
   "name": "streamlit"
  },
  "lastEditStatus": {
   "authorEmail": "starlightmachinelearning@gmail.com",
   "authorId": "3749378865462",
   "authorName": "STARLIGHTMACHINELEARNING",
   "lastEditTime": 1759682727769,
   "notebookId": "bifl77tu6rzvsd23mzvq",
   "sessionId": "46eb3dfd-c2a8-4d03-ba8c-ce110ed120d9"
  }
 },
 "nbformat": 4,
 "nbformat_minor": 5
}
