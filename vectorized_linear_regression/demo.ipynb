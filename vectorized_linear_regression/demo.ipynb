{
 "cells": [
  {
   "cell_type": "markdown",
   "metadata": {},
   "source": [
    "# Vectorized Linear Regression"
   ]
  },
  {
   "cell_type": "code",
   "execution_count": 1,
   "metadata": {},
   "outputs": [],
   "source": [
    "import numpy as np\n",
    "np.random.seed(42)\n",
    "np.set_printoptions(precision=10, suppress=True)\n",
    "\n",
    "import pandas as pd\n",
    "\n",
    "import statsmodels.api as sm\n",
    "\n",
    "import seaborn as sns\n",
    "import matplotlib.pyplot as plt\n",
    "sns.set_theme()\n",
    "\n",
    "import timeit"
   ]
  },
  {
   "cell_type": "markdown",
   "metadata": {},
   "source": [
    "## Data Generation"
   ]
  },
  {
   "cell_type": "code",
   "execution_count": 2,
   "metadata": {},
   "outputs": [],
   "source": [
    "n = 50\n",
    "X = np.random.random((n, 1))\n",
    "X = sm.add_constant(X)\n",
    "beta = [200, 100]\n",
    "e = np.random.random(n) * 25\n",
    "y = np.dot(X, beta) + e\n"
   ]
  },
  {
   "cell_type": "code",
   "execution_count": 3,
   "metadata": {},
   "outputs": [
    {
     "data": {
      "image/png": "[encoded data removed]",
      "text/plain": [
       "<Figure size 432x288 with 1 Axes>"
      ]
     },
     "metadata": {},
     "output_type": "display_data"
    }
   ],
   "source": [
    "ax = sns.scatterplot(x=X[:,1], y=y)\n",
    "ax.set_ylim(0, np.max(y) * 1.5)\n",
    "ax.set_title(f'Sample Data - Intercept of {beta[0]:.0f} and Slope of {beta[1]:.0f} + noise.')\n",
    "plt.show()"
   ]
  },
  {
   "cell_type": "markdown",
   "metadata": {},
   "source": [
    "## Statsmodels OLS\n",
    "https://www.statsmodels.org/stable/examples/notebooks/generated/ols.html"
   ]
  },
  {
   "cell_type": "code",
   "execution_count": 4,
   "metadata": {},
   "outputs": [
    {
     "data": {
      "text/html": [
       "<table class=\"simpletable\">\n",
       "<caption>OLS Regression Results</caption>\n",
       "<tr>\n",
       "  <th>Dep. Variable:</th>            <td>y</td>        <th>  R-squared:         </th> <td>   0.936</td>\n",
       "</tr>\n",
       "<tr>\n",
       "  <th>Model:</th>                   <td>OLS</td>       <th>  Adj. R-squared:    </th> <td>   0.935</td>\n",
       "</tr>\n",
       "<tr>\n",
       "  <th>Method:</th>             <td>Least Squares</td>  <th>  F-statistic:       </th> <td>   706.1</td>\n",
       "</tr>\n",
       "<tr>\n",
       "  <th>Date:</th>             <td>Fri, 19 Nov 2021</td> <th>  Prob (F-statistic):</th> <td>2.31e-30</td>\n",
       "</tr>\n",
       "<tr>\n",
       "  <th>Time:</th>                 <td>20:13:07</td>     <th>  Log-Likelihood:    </th> <td> -172.22</td>\n",
       "</tr>\n",
       "<tr>\n",
       "  <th>No. Observations:</th>      <td>    50</td>      <th>  AIC:               </th> <td>   348.4</td>\n",
       "</tr>\n",
       "<tr>\n",
       "  <th>Df Residuals:</th>          <td>    48</td>      <th>  BIC:               </th> <td>   352.3</td>\n",
       "</tr>\n",
       "<tr>\n",
       "  <th>Df Model:</th>              <td>     1</td>      <th>                     </th>     <td> </td>   \n",
       "</tr>\n",
       "<tr>\n",
       "  <th>Covariance Type:</th>      <td>nonrobust</td>    <th>                     </th>     <td> </td>   \n",
       "</tr>\n",
       "</table>\n",
       "<table class=\"simpletable\">\n",
       "<tr>\n",
       "    <td></td>       <th>coef</th>     <th>std err</th>      <th>t</th>      <th>P>|t|</th>  <th>[0.025</th>    <th>0.975]</th>  \n",
       "</tr>\n",
       "<tr>\n",
       "  <th>const</th> <td>  211.6243</td> <td>    2.026</td> <td>  104.430</td> <td> 0.000</td> <td>  207.550</td> <td>  215.699</td>\n",
       "</tr>\n",
       "<tr>\n",
       "  <th>x1</th>    <td>  101.6519</td> <td>    3.825</td> <td>   26.573</td> <td> 0.000</td> <td>   93.961</td> <td>  109.343</td>\n",
       "</tr>\n",
       "</table>\n",
       "<table class=\"simpletable\">\n",
       "<tr>\n",
       "  <th>Omnibus:</th>       <td>22.772</td> <th>  Durbin-Watson:     </th> <td>   1.604</td>\n",
       "</tr>\n",
       "<tr>\n",
       "  <th>Prob(Omnibus):</th> <td> 0.000</td> <th>  Jarque-Bera (JB):  </th> <td>   3.905</td>\n",
       "</tr>\n",
       "<tr>\n",
       "  <th>Skew:</th>          <td>-0.068</td> <th>  Prob(JB):          </th> <td>   0.142</td>\n",
       "</tr>\n",
       "<tr>\n",
       "  <th>Kurtosis:</th>      <td> 1.638</td> <th>  Cond. No.          </th> <td>    4.24</td>\n",
       "</tr>\n",
       "</table><br/><br/>Notes:<br/>[1] Standard Errors assume that the covariance matrix of the errors is correctly specified."
      ],
      "text/plain": [
       "<class 'statsmodels.iolib.summary.Summary'>\n",
       "\"\"\"\n",
       "                            OLS Regression Results                            \n",
       "==============================================================================\n",
       "Dep. Variable:                      y   R-squared:                       0.936\n",
       "Model:                            OLS   Adj. R-squared:                  0.935\n",
       "Method:                 Least Squares   F-statistic:                     706.1\n",
       "Date:                Fri, 19 Nov 2021   Prob (F-statistic):           2.31e-30\n",
       "Time:                        20:13:07   Log-Likelihood:                -172.22\n",
       "No. Observations:                  50   AIC:                             348.4\n",
       "Df Residuals:                      48   BIC:                             352.3\n",
       "Df Model:                           1                                         \n",
       "Covariance Type:            nonrobust                                         \n",
       "==============================================================================\n",
       "                 coef    std err          t      P>|t|      [0.025      0.975]\n",
       "------------------------------------------------------------------------------\n",
       "const        211.6243      2.026    104.430      0.000     207.550     215.699\n",
       "x1           101.6519      3.825     26.573      0.000      93.961     109.343\n",
       "==============================================================================\n",
       "Omnibus:                       22.772   Durbin-Watson:                   1.604\n",
       "Prob(Omnibus):                  0.000   Jarque-Bera (JB):                3.905\n",
       "Skew:                          -0.068   Prob(JB):                        0.142\n",
       "Kurtosis:                       1.638   Cond. No.                         4.24\n",
       "==============================================================================\n",
       "\n",
       "Notes:\n",
       "[1] Standard Errors assume that the covariance matrix of the errors is correctly specified.\n",
       "\"\"\""
      ]
     },
     "execution_count": 4,
     "metadata": {},
     "output_type": "execute_result"
    }
   ],
   "source": [
    "fit = sm.OLS(y, X).fit()\n",
    "fit.summary()"
   ]
  },
  {
   "cell_type": "markdown",
   "metadata": {},
   "source": [
    "## Numpy (Arithmetic) for Simple Linear Regression\n",
    "For one variable we can use simple arithmetic and numpy for vectorization. The formula is as follows and you'll see this mapped directly more or less to numpy operations.\n",
    "\n",
    "### $ \\frac { \\sum\\limits_{i=1}^{n} (x_i - \\bar x) (y_i - \\bar y)} {\\sum\\limits_{i=1}^{n} (x_i - \\bar x)^2} $"
   ]
  },
  {
   "cell_type": "code",
   "execution_count": 5,
   "metadata": {},
   "outputs": [
    {
     "name": "stdout",
     "output_type": "stream",
     "text": [
      "Simple linear regression arithmetic slope of 101.65 vs. statsmodels ols fit slope of 101.65.\n",
      "Results equal: True\n"
     ]
    }
   ],
   "source": [
    "x = X[:,1]\n",
    "slope = np.dot(x - x.mean(), y - y.mean()) / np.dot(x - x.mean(), x - x.mean())\n",
    "intercept = y.mean() - slope*x.mean()\n",
    "print(f'Simple linear regression arithmetic slope of {slope:.2f} vs. statsmodels ols fit slope of {fit.params[1]:.2f}.')\n",
    "print(f'Results equal: {np.allclose(slope,fit.params[1])}')"
   ]
  },
  {
   "cell_type": "markdown",
   "metadata": {},
   "source": [
    "## Matrix Formulation\n",
    "Some reference if interested in the particulars: \n",
    "\n",
    "https://economictheoryblog.com/2015/02/19/ols_estimator/\n",
    "\n",
    "### $ {(X^TX)}^{-1} X^Ty $"
   ]
  },
  {
   "cell_type": "code",
   "execution_count": 6,
   "metadata": {},
   "outputs": [],
   "source": [
    "matrix_intercept, matrix_slope = np.matmul(np.matmul(np.linalg.inv(np.matmul(X.T,X)), X.T), y)"
   ]
  },
  {
   "cell_type": "code",
   "execution_count": 7,
   "metadata": {},
   "outputs": [
    {
     "data": {
      "text/html": [
       "<div>\n",
       "<style scoped>\n",
       "    .dataframe tbody tr th:only-of-type {\n",
       "        vertical-align: middle;\n",
       "    }\n",
       "\n",
       "    .dataframe tbody tr th {\n",
       "        vertical-align: top;\n",
       "    }\n",
       "\n",
       "    .dataframe thead th {\n",
       "        text-align: right;\n",
       "    }\n",
       "</style>\n",
       "<table border=\"1\" class=\"dataframe\">\n",
       "  <thead>\n",
       "    <tr style=\"text-align: right;\">\n",
       "      <th></th>\n",
       "      <th>Method</th>\n",
       "      <th>Intercept</th>\n",
       "      <th>Slope</th>\n",
       "    </tr>\n",
       "  </thead>\n",
       "  <tbody>\n",
       "    <tr>\n",
       "      <th>0</th>\n",
       "      <td>statsmodels</td>\n",
       "      <td>211.624311</td>\n",
       "      <td>101.651916</td>\n",
       "    </tr>\n",
       "    <tr>\n",
       "      <th>1</th>\n",
       "      <td>SLR Arithmetic Formula</td>\n",
       "      <td>211.624311</td>\n",
       "      <td>101.651916</td>\n",
       "    </tr>\n",
       "    <tr>\n",
       "      <th>2</th>\n",
       "      <td>Matrix Formula</td>\n",
       "      <td>211.624311</td>\n",
       "      <td>101.651916</td>\n",
       "    </tr>\n",
       "  </tbody>\n",
       "</table>\n",
       "</div>"
      ],
      "text/plain": [
       "                   Method   Intercept       Slope\n",
       "0             statsmodels  211.624311  101.651916\n",
       "1  SLR Arithmetic Formula  211.624311  101.651916\n",
       "2          Matrix Formula  211.624311  101.651916"
      ]
     },
     "execution_count": 7,
     "metadata": {},
     "output_type": "execute_result"
    }
   ],
   "source": [
    "df = pd.DataFrame([\n",
    "    {'Method': 'statsmodels', 'Intercept': fit.params[0], 'Slope': fit.params[1]},\n",
    "    {'Method': 'SLR Arithmetic Formula', 'Intercept': intercept, 'Slope': slope},\n",
    "    {'Method': 'Matrix Formula', 'Intercept': matrix_intercept, 'Slope': matrix_slope}\n",
    "])\n",
    "df"
   ]
  },
  {
   "cell_type": "code",
   "execution_count": 8,
   "metadata": {},
   "outputs": [
    {
     "name": "stdout",
     "output_type": "stream",
     "text": [
      "Same Intercepts: True\n",
      "Same Slopes: True\n"
     ]
    }
   ],
   "source": [
    "print(f'Same Intercepts: {len(set(df.Intercept.values.round(10))) == 1}')\n",
    "print(f'Same Slopes: {len(set(df.Slope.values.round(10))) == 1}')"
   ]
  },
  {
   "cell_type": "markdown",
   "metadata": {},
   "source": [
    "## Multiple Regressions at once\n",
    "\n",
    "## $ \\forall k \\in \\{1 \\dots n \\} {(X^T_k X_k)}^{-1} X^T_k y_k $\n",
    "### where $ n \\equiv $ number of regressions\n",
    "\n",
    "This can be read as: for all k to n regressions, perform matrix form ols..."
   ]
  },
  {
   "cell_type": "markdown",
   "metadata": {},
   "source": [
    "### New Data Gen - Two Regressions, Now with 2 regressors + Intercept"
   ]
  },
  {
   "cell_type": "code",
   "execution_count": 9,
   "metadata": {},
   "outputs": [],
   "source": [
    "n = 50\n",
    "X = np.random.random((n, 2))\n",
    "X = sm.add_constant(X)\n",
    "beta = [200, 100, 50]\n",
    "e = np.random.random(n) * 25\n",
    "y = np.dot(X, beta) + e\n",
    "\n",
    "X2 = np.random.random((n, 2))\n",
    "X2 = sm.add_constant(X2)\n",
    "beta2 = [500, 10, 5]\n",
    "e2 = np.random.random(n) * 5\n",
    "y2 = np.dot(X2, beta2) + e"
   ]
  },
  {
   "cell_type": "code",
   "execution_count": 10,
   "metadata": {},
   "outputs": [
    {
     "name": "stdout",
     "output_type": "stream",
     "text": [
      "(2, 50, 3)\n",
      "(2, 50)\n"
     ]
    }
   ],
   "source": [
    "X_many = np.array([X, X2])\n",
    "y_many = np.array([y, y2])\n",
    "\n",
    "print(X_many.shape)\n",
    "print(y_many.shape)"
   ]
  },
  {
   "cell_type": "markdown",
   "metadata": {},
   "source": [
    "### Standard OLS approach for each"
   ]
  },
  {
   "cell_type": "code",
   "execution_count": 11,
   "metadata": {},
   "outputs": [
    {
     "name": "stdout",
     "output_type": "stream",
     "text": [
      "Stats Model OLS function would not run on 3d data.\n"
     ]
    }
   ],
   "source": [
    "try:\n",
    "    sm.OLS(y_many, X_many).fit()\n",
    "except ValueError:\n",
    "    print('Stats Model OLS function would not run on 3d data.')"
   ]
  },
  {
   "cell_type": "code",
   "execution_count": 12,
   "metadata": {},
   "outputs": [
    {
     "name": "stdout",
     "output_type": "stream",
     "text": [
      "Intercept/Slopes of (209.92404133746055, 95.32548234874625, 61.4157238175172) and (514.1649366640229, 8.135532283891308, 4.335316267085091).\n"
     ]
    }
   ],
   "source": [
    "fit_a = sm.OLS(y_many[0], X_many[0]).fit()\n",
    "fit_b = sm.OLS(y_many[1], X_many[1]).fit()\n",
    "print(f'Intercept/Slopes of {*fit_a.params,} and {*fit_b.params,}.')"
   ]
  },
  {
   "cell_type": "markdown",
   "metadata": {},
   "source": [
    "### We'll need a new way to transpose"
   ]
  },
  {
   "cell_type": "code",
   "execution_count": 13,
   "metadata": {},
   "outputs": [
    {
     "name": "stdout",
     "output_type": "stream",
     "text": [
      "(3, 50, 2)\n"
     ]
    },
    {
     "data": {
      "text/plain": [
       "(2, 3, 50)"
      ]
     },
     "execution_count": 13,
     "metadata": {},
     "output_type": "execute_result"
    }
   ],
   "source": [
    "# We can't rely on simple .T for transpose anymore...we only want our transpose to change the last two dimensions.\n",
    "print(X_many.T.shape)\n",
    "\n",
    "# We'll need to transpose with the function and specify exactly what we want to get the right shape\n",
    "X_many.transpose(0,2,1).shape"
   ]
  },
  {
   "cell_type": "markdown",
   "metadata": {},
   "source": [
    "### Now back to matrix formula with this added dimension account for"
   ]
  },
  {
   "cell_type": "code",
   "execution_count": 14,
   "metadata": {},
   "outputs": [
    {
     "data": {
      "text/plain": [
       "array([[209.9240413375,  95.3254823487,  61.4157238175],\n",
       "       [514.164936664 ,   8.1355322839,   4.3353162671]])"
      ]
     },
     "execution_count": 14,
     "metadata": {},
     "output_type": "execute_result"
    }
   ],
   "source": [
    "x_operations = np.matmul(np.linalg.inv(np.matmul(X_many.transpose(0,2,1),X_many)), X_many.transpose(0,2,1))\n",
    "m_solve = np.matmul(x_operations, y_many[..., np.newaxis])[...,0]\n",
    "m_solve"
   ]
  },
  {
   "cell_type": "code",
   "execution_count": 15,
   "metadata": {},
   "outputs": [
    {
     "data": {
      "text/plain": [
       "True"
      ]
     },
     "execution_count": 15,
     "metadata": {},
     "output_type": "execute_result"
    }
   ],
   "source": [
    "# Check that first regression returned the same results\n",
    "np.allclose(np.array(fit_a.params), m_solve[0])"
   ]
  },
  {
   "cell_type": "code",
   "execution_count": 16,
   "metadata": {},
   "outputs": [
    {
     "data": {
      "text/plain": [
       "True"
      ]
     },
     "execution_count": 16,
     "metadata": {},
     "output_type": "execute_result"
    }
   ],
   "source": [
    "# Check that second regression returned the same results\n",
    "np.allclose(np.array(fit_b.params), m_solve[1])"
   ]
  },
  {
   "cell_type": "markdown",
   "metadata": {},
   "source": [
    "### Einsum Version\n",
    "For fun, let's do the same with einsum notation.\n",
    "\n",
    "More Information: https://numpy.org/doc/stable/reference/generated/numpy.einsum.html"
   ]
  },
  {
   "cell_type": "code",
   "execution_count": 17,
   "metadata": {},
   "outputs": [
    {
     "name": "stdout",
     "output_type": "stream",
     "text": [
      "[[209.9240413375  95.3254823487  61.4157238175]\n",
      " [514.164936664    8.1355322839   4.3353162671]]\n"
     ]
    }
   ],
   "source": [
    "# Step 1: inv of XXt\n",
    "step1 = np.linalg.inv(np.einsum('ikj,ikl->ijl', X_many, X_many))\n",
    "# Step 2: Above operation matmul Xt\n",
    "step2 = np.einsum('ijk,ilk->ijl', step1, X_many)\n",
    "# Step 3: Above operation matmul y\n",
    "einsum_solve = np.einsum('ijk,ik->ij', step2, y_many)\n",
    "# Print Results\n",
    "print(einsum_solve)"
   ]
  },
  {
   "cell_type": "code",
   "execution_count": 18,
   "metadata": {},
   "outputs": [
    {
     "data": {
      "text/plain": [
       "True"
      ]
     },
     "execution_count": 18,
     "metadata": {},
     "output_type": "execute_result"
    }
   ],
   "source": [
    "# Check that matrix multiplication and einsum approach are the same\n",
    "np.allclose(m_solve, einsum_solve)"
   ]
  },
  {
   "cell_type": "markdown",
   "metadata": {},
   "source": [
    "### Statsmodel Loop"
   ]
  },
  {
   "cell_type": "code",
   "execution_count": 19,
   "metadata": {},
   "outputs": [],
   "source": [
    "def np_to_df(X_many_orig, y_many_orig):\n",
    "    '''Helper method for this simple example, changing x/y numpy arrays for 2 regressor ols into a df'''\n",
    "    # Reshape x into 2d\n",
    "    a, b, c = X_many_orig.shape\n",
    "    regression_number = np.repeat(np.arange(a),b)\n",
    "    td_array = np.reshape(X_many_orig, (a*b,-1))\n",
    "    stacked_arr = np.column_stack([regression_number, td_array])\n",
    "\n",
    "    # Combine into DF with y\n",
    "    df = pd.DataFrame(stacked_arr)\n",
    "    column_list = ['regression_number', 'intercept', 'regressor_1', 'regressor_2']\n",
    "    df.columns = column_list\n",
    "    df['y'] = np.reshape(y_many_orig, -1)\n",
    "\n",
    "    return df"
   ]
  },
  {
   "cell_type": "code",
   "execution_count": 20,
   "metadata": {},
   "outputs": [
    {
     "data": {
      "text/html": [
       "<div>\n",
       "<style scoped>\n",
       "    .dataframe tbody tr th:only-of-type {\n",
       "        vertical-align: middle;\n",
       "    }\n",
       "\n",
       "    .dataframe tbody tr th {\n",
       "        vertical-align: top;\n",
       "    }\n",
       "\n",
       "    .dataframe thead th {\n",
       "        text-align: right;\n",
       "    }\n",
       "</style>\n",
       "<table border=\"1\" class=\"dataframe\">\n",
       "  <thead>\n",
       "    <tr style=\"text-align: right;\">\n",
       "      <th></th>\n",
       "      <th>regression_number</th>\n",
       "      <th>intercept</th>\n",
       "      <th>regressor_1</th>\n",
       "      <th>regressor_2</th>\n",
       "      <th>y</th>\n",
       "    </tr>\n",
       "  </thead>\n",
       "  <tbody>\n",
       "    <tr>\n",
       "      <th>0</th>\n",
       "      <td>0.0</td>\n",
       "      <td>1.0</td>\n",
       "      <td>0.031429</td>\n",
       "      <td>0.636410</td>\n",
       "      <td>251.014230</td>\n",
       "    </tr>\n",
       "    <tr>\n",
       "      <th>1</th>\n",
       "      <td>0.0</td>\n",
       "      <td>1.0</td>\n",
       "      <td>0.314356</td>\n",
       "      <td>0.508571</td>\n",
       "      <td>258.967632</td>\n",
       "    </tr>\n",
       "    <tr>\n",
       "      <th>2</th>\n",
       "      <td>0.0</td>\n",
       "      <td>1.0</td>\n",
       "      <td>0.907566</td>\n",
       "      <td>0.249292</td>\n",
       "      <td>307.261977</td>\n",
       "    </tr>\n",
       "    <tr>\n",
       "      <th>3</th>\n",
       "      <td>0.0</td>\n",
       "      <td>1.0</td>\n",
       "      <td>0.410383</td>\n",
       "      <td>0.755551</td>\n",
       "      <td>301.279704</td>\n",
       "    </tr>\n",
       "    <tr>\n",
       "      <th>4</th>\n",
       "      <td>0.0</td>\n",
       "      <td>1.0</td>\n",
       "      <td>0.228798</td>\n",
       "      <td>0.076980</td>\n",
       "      <td>241.889539</td>\n",
       "    </tr>\n",
       "  </tbody>\n",
       "</table>\n",
       "</div>"
      ],
      "text/plain": [
       "   regression_number  intercept  regressor_1  regressor_2           y\n",
       "0                0.0        1.0     0.031429     0.636410  251.014230\n",
       "1                0.0        1.0     0.314356     0.508571  258.967632\n",
       "2                0.0        1.0     0.907566     0.249292  307.261977\n",
       "3                0.0        1.0     0.410383     0.755551  301.279704\n",
       "4                0.0        1.0     0.228798     0.076980  241.889539"
      ]
     },
     "execution_count": 20,
     "metadata": {},
     "output_type": "execute_result"
    }
   ],
   "source": [
    "# Numpy to df conversion, and show a few records\n",
    "df = np_to_df(X_many, y_many)\n",
    "df.head()"
   ]
  },
  {
   "cell_type": "code",
   "execution_count": 21,
   "metadata": {},
   "outputs": [],
   "source": [
    "def run_sm_ols(df_grouping):\n",
    "    # Run statsmodel ols\n",
    "    ols_results = sm.OLS(df_grouping.loc[:,'y'], df_grouping.loc[:, ['intercept', 'regressor_1', 'regressor_2']]).fit()\n",
    "    # Unpack variables\n",
    "    intercept, b1, b2 = ols_results.params\n",
    "    # Return to apply call as a series (3 separate columns)\n",
    "    return pd.Series([intercept, b1, b2], index=['intercept', 'b1', 'b2'])"
   ]
  },
  {
   "cell_type": "code",
   "execution_count": 22,
   "metadata": {},
   "outputs": [
    {
     "data": {
      "text/html": [
       "<div>\n",
       "<style scoped>\n",
       "    .dataframe tbody tr th:only-of-type {\n",
       "        vertical-align: middle;\n",
       "    }\n",
       "\n",
       "    .dataframe tbody tr th {\n",
       "        vertical-align: top;\n",
       "    }\n",
       "\n",
       "    .dataframe thead th {\n",
       "        text-align: right;\n",
       "    }\n",
       "</style>\n",
       "<table border=\"1\" class=\"dataframe\">\n",
       "  <thead>\n",
       "    <tr style=\"text-align: right;\">\n",
       "      <th></th>\n",
       "      <th>intercept</th>\n",
       "      <th>b1</th>\n",
       "      <th>b2</th>\n",
       "    </tr>\n",
       "    <tr>\n",
       "      <th>regression_number</th>\n",
       "      <th></th>\n",
       "      <th></th>\n",
       "      <th></th>\n",
       "    </tr>\n",
       "  </thead>\n",
       "  <tbody>\n",
       "    <tr>\n",
       "      <th>0.0</th>\n",
       "      <td>209.924041</td>\n",
       "      <td>95.325482</td>\n",
       "      <td>61.415724</td>\n",
       "    </tr>\n",
       "    <tr>\n",
       "      <th>1.0</th>\n",
       "      <td>514.164937</td>\n",
       "      <td>8.135532</td>\n",
       "      <td>4.335316</td>\n",
       "    </tr>\n",
       "  </tbody>\n",
       "</table>\n",
       "</div>"
      ],
      "text/plain": [
       "                    intercept         b1         b2\n",
       "regression_number                                  \n",
       "0.0                209.924041  95.325482  61.415724\n",
       "1.0                514.164937   8.135532   4.335316"
      ]
     },
     "execution_count": 22,
     "metadata": {},
     "output_type": "execute_result"
    }
   ],
   "source": [
    "# For each regression we are attempting to do in parallel, run the run_sm_ols function\n",
    "df.groupby('regression_number').apply(run_sm_ols)"
   ]
  },
  {
   "cell_type": "markdown",
   "metadata": {},
   "source": [
    "### Comparing Speeds"
   ]
  },
  {
   "cell_type": "code",
   "execution_count": 23,
   "metadata": {},
   "outputs": [],
   "source": [
    "def get_random_x_y():\n",
    "    '''Helper function for returning a single multiple x/y pair for random regressions'''\n",
    "    n = 50\n",
    "    X = np.random.random((n, 2))\n",
    "    X = sm.add_constant(X)\n",
    "    beta = [np.random.randint(175, 200), np.random.randint(90, 100), np.random.randint(40,50)]\n",
    "    e = np.random.random(n) * 25\n",
    "    y = np.dot(X, beta) + e\n",
    "    return X, y\n",
    "\n",
    "# Build a bunch of random regressions\n",
    "multiple_regressions = [get_random_x_y() for i in range(100)]\n",
    "X_many = np.array([x for x,y in multiple_regressions])\n",
    "y_many = np.array([y for x,y in multiple_regressions])\n",
    "df = np_to_df(X_many, y_many)"
   ]
  },
  {
   "cell_type": "code",
   "execution_count": 24,
   "metadata": {},
   "outputs": [
    {
     "name": "stdout",
     "output_type": "stream",
     "text": [
      "151 µs ± 5.9 µs per loop (mean ± std. dev. of 10 runs, 1000 loops each)\n"
     ]
    }
   ],
   "source": [
    "%%timeit -r 10 -n 1000\n",
    "x_operations = np.matmul(np.linalg.inv(np.matmul(X_many.transpose(0,2,1),X_many)), X_many.transpose(0,2,1))\n",
    "m_solve = np.matmul(x_operations, y_many[..., np.newaxis])[...,0]"
   ]
  },
  {
   "cell_type": "code",
   "execution_count": 25,
   "metadata": {},
   "outputs": [
    {
     "name": "stdout",
     "output_type": "stream",
     "text": [
      "650 µs ± 17.3 µs per loop (mean ± std. dev. of 10 runs, 1000 loops each)\n"
     ]
    }
   ],
   "source": [
    "%%timeit -r 10 -n 1000\n",
    "step1 = np.linalg.inv(np.einsum('ikj,ikl->ijl', X_many, X_many))\n",
    "step2 = np.einsum('ijk,ilk->ijl', step1, X_many)\n",
    "einsum_solve = np.einsum('ijk,ik->ij', step2, y_many)"
   ]
  },
  {
   "cell_type": "code",
   "execution_count": 26,
   "metadata": {},
   "outputs": [
    {
     "name": "stdout",
     "output_type": "stream",
     "text": [
      "120 ms ± 16.8 ms per loop (mean ± std. dev. of 10 runs, 1000 loops each)\n"
     ]
    }
   ],
   "source": [
    "%%timeit -r 10 -n 1000\n",
    "df_solve = df.groupby('regression_number').apply(run_sm_ols)"
   ]
  },
  {
   "cell_type": "code",
   "execution_count": 27,
   "metadata": {},
   "outputs": [
    {
     "name": "stdout",
     "output_type": "stream",
     "text": [
      "True\n",
      "True\n"
     ]
    }
   ],
   "source": [
    "# Verify same\n",
    "\n",
    "# Matmul\n",
    "x_operations = np.matmul(np.linalg.inv(np.matmul(X_many.transpose(0,2,1),X_many)), X_many.transpose(0,2,1))\n",
    "m_solve = np.matmul(x_operations, y_many[..., np.newaxis])[...,0]\n",
    "\n",
    "# Einsum\n",
    "step1 = np.linalg.inv(np.einsum('ikj,ikl->ijl', X_many, X_many))\n",
    "step2 = np.einsum('ijk,ilk->ijl', step1, X_many)\n",
    "einsum_solve = np.einsum('ijk,ik->ij', step2, y_many)\n",
    "\n",
    "# DF\n",
    "df_solve = df.groupby('regression_number').apply(run_sm_ols)\n",
    "\n",
    "# Checks\n",
    "print(np.allclose(m_solve, einsum_solve))\n",
    "print(np.allclose(m_solve, df_solve.loc[:,['intercept', 'b1', 'b2']].to_numpy()))"
   ]
  },
  {
   "cell_type": "code",
   "execution_count": null,
   "metadata": {},
   "outputs": [],
   "source": []
  }
 ],
 "metadata": {
  "interpreter": {
   "hash": "557bea64a4d33a54b4028138dfa5f7ef28b1855e4803cd7cef7b3f2a14105b37"
  },
  "kernelspec": {
   "display_name": "Python 3.9.6 64-bit ('sliced2': conda)",
   "language": "python",
   "name": "python3"
  },
  "language_info": {
   "codemirror_mode": {
    "name": "ipython",
    "version": 3
   },
   "file_extension": ".py",
   "mimetype": "text/x-python",
   "name": "python",
   "nbconvert_exporter": "python",
   "pygments_lexer": "ipython3",
   "version": "3.9.6"
  },
  "orig_nbformat": 4
 },
 "nbformat": 4,
 "nbformat_minor": 2
}
